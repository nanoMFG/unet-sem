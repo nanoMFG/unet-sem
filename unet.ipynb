{
 "cells": [
  {
   "cell_type": "markdown",
   "metadata": {},
   "source": [
    "# UNET Graphene Image Segmentation"
   ]
  },
  {
   "cell_type": "markdown",
   "metadata": {},
   "source": [
    "A tensorflow/keras machine learning model for image segmentation of graphene SEM images. Based heavily on [this repo](https://github.com/zhixuhao/unet)."
   ]
  },
  {
   "cell_type": "markdown",
   "metadata": {},
   "source": [
    "Imports:"
   ]
  },
  {
   "cell_type": "code",
   "execution_count": null,
   "metadata": {},
   "outputs": [],
   "source": [
    "from model import TrainUNET"
   ]
  },
  {
   "cell_type": "markdown",
   "metadata": {},
   "source": [
    "The next cell defines the model parameters, edit it before running if you would like to change anything."
   ]
  },
  {
   "cell_type": "code",
   "execution_count": null,
   "metadata": {},
   "outputs": [],
   "source": [
    "kwargs = {\n",
    "    #TODO: Add comments about what each parameter does\n",
    "    'crop' : True,\n",
    "    'augment' : True,\n",
    "    'nepochs' : 5,\n",
    "    'batch_size' : 32,\n",
    "    'split' : 0.1,\n",
    "    'max_crop' : False,\n",
    "    'crop_size' : (256,256),\n",
    "    'input_size' : (256,256),\n",
    "    'ngpu' : 1,\n",
    "    'lr' : 1e-4,\n",
    "    'shuffle_data' : False,\n",
    "    'augment_after' : 0,\n",
    "    'output_dir' : 'out/',\n",
    "    'input_dir' : 'data/',\n",
    "}"
   ]
  },
  {
   "cell_type": "markdown",
   "metadata": {},
   "source": [
    "This next cell initializes the model, using the paramenters from before."
   ]
  },
  {
   "cell_type": "code",
   "execution_count": null,
   "metadata": {},
   "outputs": [],
   "source": [
    "model = TrainUNET(**kwargs)"
   ]
  },
  {
   "cell_type": "markdown",
   "metadata": {},
   "source": [
    "Finally, we can run the training, with optional testing."
   ]
  },
  {
   "cell_type": "code",
   "execution_count": null,
   "metadata": {},
   "outputs": [],
   "source": [
    "model.train(test=True, save_dir=kwargs['output_dir'])"
   ]
  }
 ],
 "metadata": {
  "kernelspec": {
   "display_name": "Python 3",
   "language": "python",
   "name": "python3"
  },
  "language_info": {
   "codemirror_mode": {
    "name": "ipython",
    "version": 3
   },
   "file_extension": ".py",
   "mimetype": "text/x-python",
   "name": "python",
   "nbconvert_exporter": "python",
   "pygments_lexer": "ipython3",
   "version": "3.8.5"
  }
 },
 "nbformat": 4,
 "nbformat_minor": 4
}
