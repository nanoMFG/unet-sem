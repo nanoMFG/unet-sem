{
 "cells": [
  {
   "cell_type": "markdown",
   "metadata": {
    "id": "yrsfTqmhxujd"
   },
   "source": [
    "# Import packages"
   ]
  },
  {
   "cell_type": "code",
   "execution_count": null,
   "metadata": {
    "colab": {
     "base_uri": "https://localhost:8080/"
    },
    "id": "mpfsAlwUyi1g",
    "outputId": "24312aca-e9d9-4e27-b955-ecf67dd0c548"
   },
   "outputs": [],
   "source": [
    "# Import all relevant packages\n",
    "\n",
    "import os\n",
    "import cv2\n",
    "import matplotlib.pyplot as plt\n",
    "import numpy as np\n",
    "import copy\n",
    "import math\n",
    "import shapely\n",
    "import random\n",
    "from shapely.geometry import LineString, Point\n",
    "from sympy import Point, Line, pi, sin\n",
    "from skimage import util\n",
    "from scipy.ndimage.measurements import label\n",
    "from sklearn.cluster import KMeans, MiniBatchKMeans\n",
    "from PIL import Image, ImageDraw\n",
    "from matplotlib import cm\n",
    "import pandas as pd"
   ]
  },
  {
   "cell_type": "markdown",
   "metadata": {
    "id": "ifVkw6J5o3X0"
   },
   "source": [
    "# Define all analysis functions"
   ]
  },
  {
   "cell_type": "code",
   "execution_count": null,
   "metadata": {
    "id": "echO98J45jFj"
   },
   "outputs": [],
   "source": [
    "# Define a LinkedList\n",
    "class Node:\n",
    "    def __init__(self, data):\n",
    "       self.data = data\n",
    "       self.next = None\n",
    "class LinkedList:\n",
    "    def __init__(self):\n",
    "       self.headvalue = None\n",
    "    def __init__(self, data):\n",
    "       self.headvalue = Node(data)\n",
    "       x1, y1, x2, y2 = data\n",
    "       self.startCoord = (x1, y1)\n",
    "       self.endCoord = (x2, y2)\n",
    "    def append(self, data):\n",
    "      if self.headvalue.next == None:\n",
    "        self.tailvalue = Node(data)\n",
    "        self.headvalue.next = self.tailvalue\n",
    "      else:\n",
    "        self.tailvalue.next = Node(data)\n",
    "        self.tailvalue = self.tailvalue.next\n",
    "      x1, y1, x2, y2 = data\n",
    "      self.endCoord = (x2, y2)\n",
    "    def listprint(self):\n",
    "        printvalue = self.headvalue\n",
    "        while printvalue is not None:\n",
    "            print(printvalue.data)\n",
    "            printvalue = printvalue.next\n",
    "    def printToPicture(self, pic):\n",
    "        printvalue = self.headvalue\n",
    "        \n",
    "        while printvalue is not None:\n",
    "          x1, y1, x2, y2 = printvalue.data\n",
    "          cv2.line(pic, (x1, y1), (x2,y2), (255,255,255), 3)\n",
    "          cv2.circle(pic, (x1,y1), 5, (255, 255, 255), 5)\n",
    "          cv2.circle(pic, (x2,y2), 5, (255, 255, 255), 5)\n",
    "          printvalue = printvalue.next\n",
    "    def printAng(self):\n",
    "      Line1 = self.headvalue\n",
    "      Line2 = self.headvalue.next\n",
    "      while Line2 is not None:\n",
    "        rad = angleBetweenLines([Line1.data],[Line2.data])\n",
    "        #print(\"l1 {} l2 {} rad is {}\".format(Line1.data, Line2.data, rad))\n",
    "        Line1 = Line2\n",
    "        Line2 = Line2.next\n",
    "    def findBiggestAng(self):\n",
    "      Line1 = self.headvalue\n",
    "      Line2 = self.headvalue.next\n",
    "      rad = 0\n",
    "      saveLine = Line2.data\n",
    "      while Line2 is not None:\n",
    "        currentRad = angleBetweenLines([Line1.data],[Line2.data])\n",
    "        if currentRad > rad:\n",
    "          rad = currentRad\n",
    "          saveLine = Line2.data\n",
    "        Line1 = Line2\n",
    "        Line2 = Line2.next\n",
    "      return saveLine\n",
    "\n",
    "\n",
    "# Define all functions required by LinkedLists\n",
    "\n",
    "# Append new node to LinkedList\n",
    "def appendList(startList, newList):\n",
    "  x1, y1 = startList.endCoord\n",
    "  x2, y2 = newList.startCoord\n",
    "  startList.append([x1, y1, x2, y2])\n",
    "  currentNode = newList.headvalue\n",
    "  while (currentNode != None):\n",
    "    startList.append(currentNode.data)\n",
    "    currentNode = currentNode.next\n",
    "\n",
    "def min(x, y):\n",
    "  if x <= y:\n",
    "    return x\n",
    "  else:\n",
    "    return y\n",
    "\n",
    "def max(x, y):\n",
    "  if x>=y:\n",
    "    return x\n",
    "  else:\n",
    "    return y\n",
    "\n",
    "# Find the shortest distnace between a point and the edge of the image\n",
    "def findShortestPathToEdgePoint(x, y):\n",
    "  minimumX = min(x, width - x)\n",
    "  minimumY = min(y, height - y)\n",
    "  minimumTotal = min(minimumX, minimumY)\n",
    "  return minimumTotal\n",
    "\n",
    "# Find the shortest distance between a line and the edge of the image\n",
    "def findShortestPathToEdge(line):\n",
    "  x1, y1, x2, y2 = line[0]\n",
    "  firstPointMin = findShortestPathToEdgePoint(x1, y1)\n",
    "  secondPointMin = findShortestPathToEdgePoint(x2, y2)\n",
    "  AbsoluteMin = min(firstPointMin, secondPointMin)\n",
    "  return AbsoluteMin\n",
    "\n",
    "# Find the shortest distance between the `left' point of a segment and the \n",
    "# edge of the image\n",
    "def findShortestPathToEdgeLeft(line):\n",
    "  x1, y1, x2, y2 = line[0]\n",
    "  PointMin = findShortestPathToEdgePoint(x1, y1)\n",
    "  return PointMin\n",
    "\n",
    "# Find the shortest distance between the `right' point of a segment and the \n",
    "# edge of the image\n",
    "def findShortestPathToEdgeRight(line):\n",
    "  x1, y1, x2, y2 = line[0]\n",
    "  PointMin = findShortestPathToEdgePoint(x2, y2)\n",
    "  return PointMin\n",
    "\n",
    "# Find the distance between two points\n",
    "def distanceBetweenPoints(x1, y1, x2, y2):\n",
    "  run = abs(x2 - x1)\n",
    "  rise = abs(y2 - y1)\n",
    "  distance = (run * run + rise * rise) ** 0.5\n",
    "  return distance\n",
    "\n",
    "# Find the minimum distance between two lines\n",
    "def findDistanceBetweenLines(lineA, lineB):\n",
    "  xStartA, yStartA, xEndA, yEndA = lineA[0]\n",
    "  xStartB, yStartB, xEndB, yEndB = lineB[0]\n",
    "  minimum = distanceBetweenPoints(xStartA, yStartA, xStartB, yStartB)\n",
    "  minimum = min(minimum,\n",
    "                distanceBetweenPoints(xStartA, yStartA, xEndB, yEndB))\n",
    "  minimum = min(minimum,\n",
    "                distanceBetweenPoints(xEndA, yEndA, xStartB, yStartB))\n",
    "  minimum = min(minimum,\n",
    "                distanceBetweenPoints(xEndA, yEndA, xEndB, yEndB))\n",
    "  return minimum\n",
    "\n",
    "# Find the minimum distance between the `left' point of lineA and another line\n",
    "def findDistanceToLinesLeft(lineA, lineB):\n",
    "  xStartA, yStartA, xEndA, yEndA = lineA[0]\n",
    "  xStartB, yStartB, xEndB, yEndB = lineB[0]\n",
    "  minimum = distanceBetweenPoints(xStartA, yStartA, xStartB, yStartB)\n",
    "  minimum = min(minimum,\n",
    "                distanceBetweenPoints(xStartA, yStartA, xEndB, yEndB))\n",
    "  return minimum\n",
    "\n",
    "# Find the minimum distance between the `right' point of lineA and another line\n",
    "def findDistanceToLinesRight(lineA, lineB):\n",
    "  xStartA, yStartA, xEndA, yEndA = lineA[0]\n",
    "  xStartB, yStartB, xEndB, yEndB = lineB[0]\n",
    "  minimum = distanceBetweenPoints(xEndA, yEndA, xStartB, yStartB)\n",
    "  minimum = min(minimum,\n",
    "                distanceBetweenPoints(xEndA, yEndA, xEndB, yEndB))\n",
    "  return minimum\n",
    "\n",
    "# Find the angle between two lines\n",
    "def angleBetweenLines(lineA, lineB):\n",
    "  xStartA, yStartA, xEndA, yEndA = lineA[0]\n",
    "  xStartB, yStartB, xEndB, yEndB = lineB[0]\n",
    "  l1 = Line((xStartA, yStartA), (xEndA, yEndA))\n",
    "  l2 = Line((xStartB, yStartB), (xEndB, yEndB))\n",
    "  xTest, yTest = findMidpoint(xStartA, yStartA, xEndB, yEndB)\n",
    "  directionCoef = 1\n",
    "  if closed_image[yTest][xTest] >= 1: \n",
    "    directionCoef = -1\n",
    "  rad = pi + (directionCoef * l1.angle_between(l2))\n",
    "  return rad\n",
    "\n",
    "# Connect two lines\n",
    "# returns greatest distance between combination of the four coordinates\n",
    "def connectLines(lineA, lineB): \n",
    "  xStartA, yStartA, xEndA, yEndA = lineA[0]\n",
    "  xStartB, yStartB, xEndB, yEndB = lineB[0]\n",
    "  switchVariable = 1\n",
    "  option1 = distanceBetweenPoints(xStartA, yStartA, xStartB, yStartB)\n",
    "  option2 = distanceBetweenPoints(xStartA, yStartA, xEndB, yEndB)\n",
    "  option3 = distanceBetweenPoints(xEndA, yEndA, xStartB, yStartB)\n",
    "  option4 = distanceBetweenPoints(xEndA, yEndA, xEndB, yEndB)\n",
    "  lineADist = distanceBetweenPoints(xStartA, yStartA, xEndA, yEndA)\n",
    "  lineBDist = distanceBetweenPoints(xStartB, yStartB, xEndB, yEndB)\n",
    "  max = copy.deepcopy(option1)\n",
    "  if option2 > max:\n",
    "    switchVariable += 1\n",
    "    max = copy.deepcopy(option2)\n",
    "  if option3 > max:\n",
    "    switchVariable = 3\n",
    "    max = copy.deepcopy(option3)\n",
    "  if option4 > max:\n",
    "    switchVariable = 4\n",
    "    max = copy.deepcopy(option4)\n",
    "  if lineADist > max:\n",
    "    switchVariable = 5\n",
    "    max = copy.deepcopy(lineADist)\n",
    "  if lineBDist > max:\n",
    "    switchVariable = 6\n",
    "  if switchVariable is 1:\n",
    "    return [[xStartA, yStartA, xStartB, yStartB]]\n",
    "  elif switchVariable is 2:\n",
    "    return [[xStartA, yStartA, xEndB, yEndB]]\n",
    "  elif switchVariable is 3:\n",
    "    return [[xEndA, yEndA, xStartB, yStartB]]\n",
    "  elif switchVariable is 4:\n",
    "    return [[xEndA, yEndA, xEndB, yEndB]]\n",
    "  elif switchVariable is 5:\n",
    "    return [[xStartA, yStartA, xEndA, yEndA]]\n",
    "  else:\n",
    "    return [[xStartB, yStartB, xEndB, yEndB]]\n",
    "\n",
    "# does the exact same thing as connectLines\n",
    "# thought same line would be an edge case but it turns out to be the same function\n",
    "def connectLinesSameLine(lineA, lineB): \n",
    "  xStartA, yStartA, xEndA, yEndA = lineA[0]\n",
    "  xStartB, yStartB, xEndB, yEndB = lineB[0]\n",
    "  switchVariable = 1\n",
    "  option1 = distanceBetweenPoints(xStartA, yStartA, xStartB, yStartB)\n",
    "  option2 = distanceBetweenPoints(xStartA, yStartA, xEndB, yEndB)\n",
    "  option3 = distanceBetweenPoints(xEndA, yEndA, xStartB, yStartB)\n",
    "  option4 = distanceBetweenPoints(xEndA, yEndA, xEndB, yEndB)\n",
    "  lineADist = distanceBetweenPoints(xStartA, yStartA, xEndA, yEndA)\n",
    "  lineBDist = distanceBetweenPoints(xStartB, yStartB, xEndB, yEndB)\n",
    "  max = copy.deepcopy(option1)\n",
    "  if option2 > max:\n",
    "    switchVariable += 1\n",
    "    max = copy.deepcopy(option2)\n",
    "  if option3 > max:\n",
    "    switchVariable = 3\n",
    "    max = copy.deepcopy(option3)\n",
    "  if option4 > max:\n",
    "    switchVariable = 4\n",
    "    max = copy.deepcopy(option4)\n",
    "  if lineADist > max:\n",
    "    switchVariable = 5\n",
    "    max = copy.deepcopy(lineADist)\n",
    "  if lineBDist > max:\n",
    "    switchVariable = 6\n",
    "  if switchVariable == 1:\n",
    "    return [[xStartA, yStartA, xStartB, yStartB]]\n",
    "  elif switchVariable == 2:\n",
    "    return [[xStartA, yStartA, xEndB, yEndB]]\n",
    "  elif switchVariable == 3:\n",
    "    return [[xEndA, yEndA, xStartB, yStartB]]\n",
    "  elif switchVariable == 4:\n",
    "    return [[xEndA, yEndA, xEndB, yEndB]]\n",
    "  elif switchVariable == 5:\n",
    "    return [[xStartA, yStartA, xEndA, yEndA]]\n",
    "  else:\n",
    "    return [[xStartB, yStartB, xEndB, yEndB]]\n",
    "\n",
    "\n",
    "# connect lines that are close and of a similar angle\n",
    "def smoothOutLines():\n",
    "  # print(\"smoothOutLines\")\n",
    "  i = 0\n",
    "  while i < len(lines): # the same line may connect with multiple nearby lines\n",
    "    if lines[i] is NullLine: # skips\n",
    "      i+= 1\n",
    "      continue\n",
    "    minimumLeft = findShortestPathToEdgeLeft(lines[i]) # start point\n",
    "    minimumRight = findShortestPathToEdgeRight(lines[i]) # end point\n",
    "    closestLineIndexLeft = i\n",
    "    closestLineIndexRight = i\n",
    "    # print(\"minimumLeft is {} minimum right is {}\".format(minimumLeft, minimumRight))\n",
    "    # two for loops inefficent. \n",
    "    # Is it possible to use some sort of clustering method? \n",
    "    # To go through once and sort closest lines left to right\n",
    "    for j in range(0, len(lines)): # finds closest line to the left\n",
    "      if i is not j and lines[j] is not NullLine:\n",
    "        distanceToLinesLeft = findDistanceToLinesLeft(lines[i], lines[j])\n",
    "        if distanceToLinesLeft < minimumLeft:\n",
    "          closestLineIndexLeft = j\n",
    "          minimumLeft = distanceToLinesLeft\n",
    "    for j in range(0, len(lines)): # finds closest line to the right\n",
    "      if i is not j and lines[j] is not NullLine and j is not closestLineIndexLeft:\n",
    "        distanceToLinesRight = findDistanceToLinesRight(lines[i], lines[j])\n",
    "        if distanceToLinesRight < minimumRight:\n",
    "          closestLineIndexRight = j \n",
    "          minimumRight = distanceToLinesRight\n",
    "    merge = False # if there is no merge, this line cannot merge, move to next. \n",
    "                  # Else, continue working on this line\n",
    "    # print(\"i is {} jleft is {} jright is {}\".format(i, closestLineIndexLeft, closestLineIndexRight))\n",
    "    # print(\"line is {} left line is {} right line is {}\".format(lines[i], lines[closestLineIndexLeft], lines[closestLineIndexRight]))\n",
    "    if closestLineIndexLeft is closestLineIndexRight and lines[closestLineIndexLeft][0][0] >=0 and closestLineIndexLeft is not i: #edge cases where left is right\n",
    "      # print(\"connect same line\")\n",
    "      lines[i] = connectLinesSameLine(lines[closestLineIndexLeft], lines[closestLineIndexRight])\n",
    "      lines[closestLineIndexLeft] = NullLine \n",
    "      merge = True\n",
    "    else:\n",
    "      if i is not closestLineIndexLeft and lines[closestLineIndexLeft][0][0] >= 0:\n",
    "        rad = angleBetweenLines(lines[i], lines[closestLineIndexLeft])\n",
    "        # print(\"rad left is {}\".format(rad))\n",
    "        if (rad >0 and rad < ANG) or (rad > pi - ANG and rad < pi + ANG) or (rad > 2 * pi - ANG):\n",
    "          # print(\"merging left\")\n",
    "          testLine = connectLines(lines[i], lines[closestLineIndexLeft])\n",
    "          rad = angleBetweenLines(lines[i], testLine)\n",
    "          if (rad >0 and rad < ANG) or (rad > pi - ANG and rad < pi + ANG) or (rad > 2 * pi - ANG): #if angle is within range, merge\n",
    "            lines[i] = testLine\n",
    "            lines[closestLineIndexLeft] = NullLine # null lines will be deleted later\n",
    "            # print(\"after left merge, line is {}\".format(lines[i]))\n",
    "            merge = True\n",
    "      if i is not closestLineIndexRight and lines[closestLineIndexRight][0][0] >=0:\n",
    "        rad = angleBetweenLines(lines[i], lines[closestLineIndexRight])\n",
    "        # print(\"rad right is {}\".format(rad))\n",
    "        if (rad >0 and rad < ANG) or (rad > pi - ANG and rad < pi + ANG) or (rad > 2 * pi - ANG):\n",
    "          # print(\"merging right\")\n",
    "          testLine = connectLines(lines[i], lines[closestLineIndexRight])\n",
    "          rad = angleBetweenLines(lines[i], testLine)\n",
    "          # print(\"rad {} line {} testline {}\".format(rad, lines[i], testLine))\n",
    "          if (rad >0 and rad < ANG) or (rad > pi - ANG and rad < pi + ANG) or (rad > 2 * pi - ANG):\n",
    "            lines[i] = testLine\n",
    "            lines[closestLineIndexRight] = NullLine\n",
    "            # print(\"after right merge, line is {}\".format(lines[i]))\n",
    "            merge = True\n",
    "    if merge is False:\n",
    "      i += 1\n",
    "\n",
    "# remove unused lines (null lines)    \n",
    "def deleteNullLines(lines):\n",
    "  newLines = []\n",
    "  for points in lines:\n",
    "    x1, y1, x2, y2 = points[0]\n",
    "    if x1 >= 0:\n",
    "      newLines.append(points)\n",
    "  return newLines\n",
    "\n",
    "# find the slope between two lines\n",
    "def findSlope(x1, y1, x2, y2):\n",
    "  rise = y2 - y1\n",
    "  run = x2 - x1\n",
    "  return run, rise\n",
    "# find the smallest of 4 distance values\n",
    "def whichOneIsSmallest(A1B1, A1B2, A2B1, A2B2):\n",
    "  smallestIndex = 1\n",
    "  smallestValue = A1B1\n",
    "  if (A1B1 > A1B2):\n",
    "    smallestIndex = 2\n",
    "    smallestValue = A1B2\n",
    "  if (smallestValue > A2B1):\n",
    "    smallestIndex = 3\n",
    "    smallestValue = A2B1\n",
    "  if (smallestValue > A2B2):\n",
    "    smallestIndex = 4\n",
    "  return smallestIndex\n",
    "  \n",
    "# find the closest pair of points between two lines\n",
    "def findClosestPoints(lineA, lineB):\n",
    "  xStartA, yStartA, xEndA, yEndA = lineA\n",
    "  xStartB, yStartB, xEndB, yEndB = lineB\n",
    "  A1B1 = distanceBetweenPoints(xStartA, yStartA, xStartB, yStartB)\n",
    "  A1B2 = distanceBetweenPoints(xStartA, yStartA, xEndB, yEndB)\n",
    "  A2B1 = distanceBetweenPoints(xEndA, yEndA, xStartB, yStartB)\n",
    "  A2B2 = distanceBetweenPoints(xEndA, yEndA, xEndB, yEndB)\n",
    "  option = whichOneIsSmallest(A1B1, A1B2, A2B1, A2B2)\n",
    "  if option == 1:\n",
    "    return xStartA, yStartA, xStartB, yStartB\n",
    "  elif option == 2:\n",
    "    return xStartA, yStartA, xEndB, yEndB\n",
    "  elif option == 3:\n",
    "    return xEndA, yEndA, xStartB, yStartB\n",
    "  else:\n",
    "    return xEndA, yEndA, xEndB, yEndB\n",
    "\n",
    "# extend a line upto a new point\n",
    "def extendLineToPoint(lineA, lineB, newX, newY):\n",
    "  xStartA, yStartA, xEndA, yEndA = lineA\n",
    "  xStartB, yStartB, xEndB, yEndB = lineB\n",
    "  startDistanceA = distanceBetweenPoints(xStartA, yStartA, newX, newY)\n",
    "  endDistanceA = distanceBetweenPoints(xEndA, yEndA, newX, newY)\n",
    "  startDistanceB = distanceBetweenPoints(xStartB, yStartB, newX, newY)\n",
    "  endDistanceB = distanceBetweenPoints(xEndB, yEndB, newX, newY)\n",
    "  distanceA = distanceBetweenPoints(xStartA, yStartA, xEndA, yEndA)\n",
    "  distanceB = distanceBetweenPoints(xStartB, yStartB, xEndB, yEndB)\n",
    "  closestAx, closestAy, closestBx, closestBy = findClosestPoints(lineA, lineB)\n",
    "  maxA = max(startDistanceA, endDistanceA)\n",
    "  maxB = max(startDistanceB, endDistanceB)\n",
    "  if maxA == distanceBetweenPoints(closestAx, closestAy, newX, newY):\n",
    "    #print(\"MaxA\")\n",
    "    return lineA, lineB\n",
    "  if maxB == distanceBetweenPoints(closestBx, closestBy, newX, newY):\n",
    "    #print(\"MaxB\")\n",
    "    return lineA, lineB\n",
    "  if startDistanceA <= endDistanceA:\n",
    "    tempA = [newX, newY, xEndA, yEndA]\n",
    "  else:\n",
    "    tempA = [xStartA, yStartA, newX, newY]\n",
    "  if startDistanceB <= endDistanceB:\n",
    "    tempB = [newX, newY, xEndB, yEndB]\n",
    "  else:\n",
    "    tempB = [xStartB, yStartB, newX, newY]\n",
    "  tax1, tay1, tax2, tay2 = tempA\n",
    "  tbx1, tby1, tbx2, tby2 = tempB\n",
    "  distanceTempA = distanceBetweenPoints(tax1, tay1, tax2, tay2)\n",
    "  distanceTempB = distanceBetweenPoints(tbx1, tby1, tbx2, tby2)\n",
    "  # print(\"tempA {} tempB {}\".format(tempA, tempB))\n",
    "  if (tax1 == tbx1 and tay1 == tby1) or (tax2 == tbx2 and tay2 == tby2): #handles edge case that can screw the whole algorithm up\n",
    "    # print(\"samdirection\")\n",
    "    return lineA, lineB\n",
    "  if (distanceTempA > 2 * distanceA or distanceTempB > 2 * distanceB):\n",
    "    # print(\"toolong\")\n",
    "    return lineA, lineB\n",
    "  return tempA, tempB\n",
    "\n",
    "# find the intercept of a line\n",
    "def findIntercept(x, y, dx, dy):\n",
    "  slope = dy/dx\n",
    "  intercept = y - (x * slope)\n",
    "  return intercept\n",
    "\n",
    "# extend a line - deals with edge case where lineB is vertical\n",
    "def findNewXNewYIfVertical(Line, verticalLine, ux, uy):\n",
    "  xStartA, yStartA, xEndA, yEndA = Line\n",
    "  xStartB, yStartB, xEndB, yEndB = verticalLine\n",
    "  xDifference = xStartB - xStartA\n",
    "  slope = uy/ux\n",
    "  newY = yStartA + (xDifference * slope)\n",
    "  return int(round(xStartB)), int(round(newY))\n",
    "  \n",
    "# merge the `extreme' vertices of two lines\n",
    "def mergeVertices(lineA, lineB):\n",
    "  xStartA, yStartA, xEndA, yEndA = lineA\n",
    "  xStartB, yStartB, xEndB, yEndB = lineB\n",
    "  ux, uy = findSlope(xStartA, yStartA, xEndA, yEndA) #slope in x and y direction for one line\n",
    "  vx, vy = findSlope(xStartB, yStartB, xEndB, yEndB) #for second line\n",
    "  b1 = findIntercept(xStartA, yStartA, ux, uy) #intercept for line 1\n",
    "  b2 = findIntercept(xStartB, yStartB, vx, vy) #intercept for line 2\n",
    "  #t2 is the scalar used to figure out how much I need to multiply to find intersection point\n",
    "  #this involved a lot of algebra and vector calc. \n",
    "  t2 = (yStartA + xStartB*uy/ux - xStartA *uy/ux - yStartB) / (vy - vx * uy/ux)\n",
    "  #print(\"t2 {} lineA {} lineB {} b1 {} b2 {} ux {} uy {} vx {} vy {}\".format(t2, lineA, lineB, b1, b2, ux, uy, vx, vy))\n",
    "  if ux == 0 and vx == 0:\n",
    "    return lineA, lineB #will throw an error, abort operation\n",
    "  elif ux == 0:\n",
    "    newx, newy = findNewXNewYIfVertical(lineB, lineA, vx,vy) #will throw an error if using next function, use this edge case function\n",
    "  elif vx == 0:\n",
    "    newx, newy = findNewXNewYIfVertical(lineA, lineB, ux,uy)\n",
    "  elif vy / vx == uy / ux: #parallel lines\n",
    "    return lineA, lineB\n",
    "  else:\n",
    "    #print(\"lineA {} lineB {} t2 {} vx {} vy {}\".format(lineA, lineB, t2, vx, vy))\n",
    "    newx = int(round(xStartB + t2 * vx))\n",
    "    newy = int(round(yStartB + t2 * vy))\n",
    "  if newx >= 0 and newx <= width and newy >=0 and newy <= height:\n",
    "    lineA, lineB = extendLineToPoint(lineA, lineB, newx, newy)\n",
    "    #lineA = extendLineToPoint(lineA, newx, newy)\n",
    "    #lineB = extendLineToPoint(lineB, newx, newy)\n",
    "  return lineA, lineB\n",
    "\n",
    "# connect vertices. Uses slope of the line to figure out where they intersect\n",
    "# works by extending line through slope to find where they intersect. \n",
    "# changes closest coordinates of both lines to intersection point\n",
    "def connectVertices(lines):\n",
    "  # print(\"connectVertices\")\n",
    "  i = 0\n",
    "  while i < len(lines): # similar algorithm to smoothlines\n",
    "    minimumLeft = findShortestPathToEdgeLeft(lines[i])\n",
    "    minimumRight = findShortestPathToEdgeRight(lines[i])\n",
    "    closestLineIndexLeft = i # copy.deepcopy(i)\n",
    "    closestLineIndexRight = i\n",
    "    for j in range(0, len(lines)):\n",
    "      if i is not j and lines[j] is not NullLine:\n",
    "        distanceToLinesLeft = findDistanceToLinesLeft(lines[i], lines[j])\n",
    "        distanceToLinesRight = findDistanceToLinesRight(lines[i], lines[j])\n",
    "        if distanceToLinesLeft < minimumLeft:\n",
    "          closestLineIndexLeft = j # copy.deepcopy(j)\n",
    "          minimumLeft = distanceToLinesLeft\n",
    "        if distanceToLinesRight < minimumRight:\n",
    "          closestLineIndexRight = j # copy.deepcopy(j)\n",
    "          minimumRight = distanceToLinesRight\n",
    "    # print(\"i {} left {} right {}\".format(lines[i][0], ...\n",
    "    # ... lines[closestLineIndexLeft][0], lines[closestLineIndexRight][0]))\n",
    "    if i != closestLineIndexLeft: # and closestLineIndexLeft != closestLineIndexRight:\n",
    "      # print(\"left merge\")\n",
    "      lines[i][0],lines[closestLineIndexLeft][0] = mergeVertices(lines[i][0], lines[closestLineIndexLeft][0])\n",
    "      # print(\"after left merge line {} left {}\".format(lines[i][0],lines[closestLineIndexLeft][0]))\n",
    "    if i != closestLineIndexRight:# and closestLineIndexLeft != closestLineIndexRight:\n",
    "      # print(\"right merge\")\n",
    "      lines[i][0],lines[closestLineIndexRight][0] = mergeVertices(lines[i][0], lines[closestLineIndexRight][0])\n",
    "      # print(\"after right merge line {} right {}\".format(lines[i][0],lines[closestLineIndexRight][0]))\n",
    "    i += 1\n",
    "\n",
    "def findMidpoint(x1, y1, x2, y2):\n",
    "  xMid = (x2 + x1) / 2\n",
    "  yMid = (y1 + y2) / 2\n",
    "  return int(round(xMid)), int(round(yMid))\n",
    "\n",
    "def isCorrectOrientation(x, y, dx, dy):\n",
    "  distance = .001 # basically finds the difference between left and right side. May cause error if close to edge\n",
    "  while closed_image[int(round(y + dx * distance))][int(round(x - dy * distance))] == closed_image[int(round(y - dx * distance))][int(round(x + dy * distance))]:\n",
    "    distance += .001\n",
    "  if closed_image[int(round(y - dx * distance))][int(round(x + dy * distance))] > closed_image[int(round(y + dx * distance))][int(round(x - dy * distance))]:\n",
    "    return True\n",
    "  return False\n",
    "\n",
    "def reOrientLine(line): # counter clockwise orientation\n",
    "  x1, y1, x2, y2 = line[0]\n",
    "  x3, y3 = findMidpoint(x1, y1, x2, y2)\n",
    "  dx, dy = findSlope(x1, y1, x2, y2)\n",
    "  if isCorrectOrientation(x3, y3, dx, dy) is False:\n",
    "    line[0] = x2, y2, x1, y1\n",
    "  return line\n",
    "\n",
    "def reOrientLines(lines):\n",
    "  # print(\"reorientLines\")\n",
    "  for line in lines:\n",
    "    line = reOrientLine(line)\n",
    "\n",
    "\n",
    "def findBeginningCoordinates(lines):\n",
    "  x1, y1, x2, y2 = lines[0][0]\n",
    "  startPoints = {(x1, y1)}\n",
    "  endPoints = {(x2, y2)}\n",
    "  for i in range(1, len(lines)):\n",
    "    x1, y1, x2, y2 = lines[i][0]\n",
    "    startPoints.add((x1, y1))\n",
    "    endPoints.add((x2, y2))\n",
    "  return startPoints, endPoints\n",
    "\n",
    "def createSegment(line, lines, endCoord, startPoints):\n",
    "  # print(\"CreateSegment\")\n",
    "  # print(\"line {} endCoord {} startPoints {}\".format(line, endCoord, startPoints))\n",
    "  x1, y1, x2, y2 = line\n",
    "  startPoints.remove((x1, y1)) # don't need it anymore\n",
    "  LList = LinkedList(line)\n",
    "  while((x2, y2) not in endCoord): # go through list until you hit end coordinate\n",
    "    for i in range(0, len(lines)):\n",
    "      Bx1, By1, Bx2, By2 = lines[i][0]\n",
    "      if x2 == Bx1 and y2 == By1:\n",
    "        LList.append(lines[i][0])\n",
    "        x1, y1, x2, y2 = lines[i][0]\n",
    "        startPoints.remove((x1, y1))\n",
    "  return LList\n",
    "\n",
    "\n",
    "def findNewStart(LList):\n",
    "  startLine = LList.findBiggestAng()\n",
    "  newLList = LinkedList(startLine)\n",
    "  currentNode = LList.headvalue\n",
    "  passedFlag = False\n",
    "  while currentNode is not None:\n",
    "    if passedFlag is True:\n",
    "      newLList.append(currentNode.data)\n",
    "    elif currentNode.data is startLine:\n",
    "      passedFlag = True\n",
    "    currentNode = currentNode.next\n",
    "  currentNode = LList.headvalue\n",
    "  while currentNode.data is not startLine:\n",
    "    newLList.append(currentNode.data)\n",
    "    currentNode = currentNode.next\n",
    "  return newLList\n",
    "    \n",
    "\n",
    "def findCircularSegments(lines, startPoints, segments):\n",
    "  #print(\"THIS FUNCTION IS CALLED\")\n",
    "  for line in lines:\n",
    "    x1, y1, x2, y2 = line[0]\n",
    "    if (x1, y1) in startPoints: #find arbitrary start\n",
    "      xNext = x2\n",
    "      yNext = y2\n",
    "      xFinal = x1\n",
    "      yFinal = y1\n",
    "      startPoints.remove((x1, y1))\n",
    "      LList = LinkedList(line[0])\n",
    "      #print(\"xFinal {} yFinal {} xNext {} yNext {}\".format(xFinal, yFinal, xNext, yNext))\n",
    "      break\n",
    "  if len(startPoints) == 0:\n",
    "    return\n",
    "  while (xNext != xFinal or yNext != yFinal): #continue until end equals original start\n",
    "    #print(\"while startpoints{}\".format(startPoints))\n",
    "    for line in lines:\n",
    "      x1, y1, x2, y2 = line[0]\n",
    "      if x1 == xNext and y1 == yNext:\n",
    "        #print(\"line {}\".format(line[0]))\n",
    "        LList.append(line[0])\n",
    "        startPoints.remove((x1, y1))\n",
    "        xNext = x2\n",
    "        yNext = y2\n",
    "  LList = findNewStart(LList) #recreate linked list with start that makes more sense\n",
    "  segments.append(LList)\n",
    "      \n",
    "\n",
    "#organize lines into linked list\n",
    "def findSegments(lines):\n",
    "  segments = []\n",
    "  startPoints, endPoints = findBeginningCoordinates(lines) #sets of start and end points for each line\n",
    "  beginningCoord = startPoints - endPoints #beginning of linked lists\n",
    "  endCoord = endPoints - startPoints #end of linked lists\n",
    "  for line in lines:\n",
    "    x1, y1, x2, y2 = line[0]\n",
    "    if (x1, y1) in beginningCoord:\n",
    "      LList = createSegment(line[0], lines, endCoord, startPoints)\n",
    "      segments.append(LList)\n",
    "  while len(startPoints) > 0: #circular segments will have no start nor end point\n",
    "    findCircularSegments(lines, startPoints, segments)\n",
    "  return segments\n",
    "\n",
    "def findArea(lines):\n",
    "  hexagonArea = 0\n",
    "  for line in lines:\n",
    "    x1, y1, x2, y2 = line\n",
    "    hexagonArea += (x2 + x1) * (y2 - y1) / 2\n",
    "  return abs(hexagonArea)\n",
    "\n",
    "def findMultiplier(rad):\n",
    "  if rad < pi/6:\n",
    "    return 0\n",
    "  elif rad < 2 * pi / 6:\n",
    "    return 10.0 # 10.0\n",
    "  elif rad < 3 * pi / 6:\n",
    "    return 6.0 # 6.0\n",
    "  elif rad < 4 * pi / 6:\n",
    "    return 4.0 # 4.0\n",
    "  elif rad < 5 * pi / 6:\n",
    "    return 3.0 # 3.0\n",
    "  elif rad < 6 * pi / 6:\n",
    "    return 2.0 # 2.0\n",
    "  elif rad < 7 * pi / 6:\n",
    "    return 1.2 # 1.2\n",
    "  else:\n",
    "    return 1.0\n",
    "  # else:\n",
    "  #   return float((0.75*2*pi)/(rad-sin(rad)))\n",
    "\n",
    "def totalAngleBetweenLines(lines): \n",
    "  rad = 0\n",
    "  for i in range(1, len(lines)):\n",
    "    xStartA, yStartA, xEndA, yEndA = lines[i-1]\n",
    "    xStartB, yStartB, xEndB, yEndB = lines[i]\n",
    "    l1 = Line((xStartA, yStartA), (xEndA, yEndA))\n",
    "    l2 = Line((xStartB, yStartB), (xEndB, yEndB))\n",
    "    rad += l1.angle_between(l2)\n",
    "  return rad\n",
    "\n",
    "\n",
    "def addHexagonArea(lines, area, numHexagons):\n",
    "  if len(lines) == 1:\n",
    "    return [], area, numHexagons\n",
    "  xStartA, yStartA, xEndA, yEndA = lines[0]\n",
    "  xStartB, yStartB, xEndB, yEndB = lines[len(lines) - 1]\n",
    "  numHexagons += 1\n",
    "  if xStartA == xEndB and yStartA == yEndB:\n",
    "    newArea = findArea(lines)\n",
    "    if newArea > 5000: #ignore tiny hexagons\n",
    "      area += newArea\n",
    "    else:\n",
    "      numHexagons -= 1\n",
    "    return [], area, numHexagons\n",
    "  rad = totalAngleBetweenLines(lines)\n",
    "  #print(\"rad is {} lines {}\".format(rad, lines))\n",
    "  multiplier = findMultiplier(rad)\n",
    "  #if multiplier == 0:\n",
    "    #numHexagons -= 1\n",
    "  lines.append([xEndB, yEndB, xStartA, yStartA])\n",
    "  newArea = (multiplier * findArea(lines))\n",
    "  if newArea > 5000:\n",
    "    area += newArea\n",
    "  else:\n",
    "    numHexagons -= 1\n",
    "  return [], area, numHexagons\n",
    "\n",
    "def findOuterHexagonArea(segment, area, numHexagons):\n",
    "  #print(\"findouterarea\")\n",
    "  currentNode = segment.headvalue\n",
    "  if currentNode.next is None: #ignores segments of length 1\n",
    "    return area, numHexagons\n",
    "  lines = []\n",
    "  while currentNode.next is not None:\n",
    "    lines.append(currentNode.data)\n",
    "    x1, y1, x2, y2 = lines[0]\n",
    "    Bx1, By1, Bx2, By2 = currentNode.data\n",
    "    temprad = angleBetweenLines([currentNode.data], [currentNode.next.data])\n",
    "    #print(\"rad {} lines {}\".format(temprad, lines))\n",
    "    if angleBetweenLines([currentNode.data], [currentNode.next.data]) > pi + (2* ANG): #2 ang is bias\n",
    "      #print(\"lines {}\".format(lines))\n",
    "      lines, area, numHexagons = addHexagonArea(lines, area, numHexagons)\n",
    "      #print(\"area {} num {}\".format(area, numHexagons))\n",
    "    if len(lines) > 1 and Bx2 == x1 and By2 == y1: #circular hexagon\n",
    "      lines, area, numHexagons = addHexagonArea(lines, area, numHexagons)\n",
    "    currentNode = currentNode.next\n",
    "  lines.append(currentNode.data)\n",
    "  #print(\"lines {}\".format(lines))\n",
    "  lines, area, numHexagons = addHexagonArea(lines, area, numHexagons) #add final hexagon area\n",
    "  #print(\"area {} num {}\".format(area, numHexagons))\n",
    "  return area, numHexagons\n",
    "\n",
    "\n",
    "\n",
    "def connectSegments(segments): #connects two close segements\n",
    "  counter = 0\n",
    "  while (counter < len(segments)):\n",
    "    xEnd, yEnd = segments[counter].endCoord\n",
    "    endMinimum = findShortestPathToEdgePoint(xEnd, yEnd)\n",
    "    segmentIndex = counter\n",
    "    for j in range (0, len(segments)):\n",
    "      if j != counter:\n",
    "        xBegin, yBegin = segments[j].startCoord\n",
    "        distance = distanceBetweenPoints(xEnd, yEnd, xBegin, yBegin)\n",
    "        if endMinimum > distance:\n",
    "          segmentIndex = j\n",
    "          endMinimum = distance\n",
    "    if segmentIndex != counter:\n",
    "      appendList(segments[counter], segments[segmentIndex])\n",
    "      segments.remove(segments[segmentIndex])\n",
    "    counter += 1"
   ]
  },
  {
   "cell_type": "markdown",
   "metadata": {
    "id": "INWAolt6oRqO"
   },
   "source": [
    "# Analysis of randomly generated data"
   ]
  },
  {
   "cell_type": "code",
   "execution_count": null,
   "metadata": {
    "id": "TBdUrn2yHsN9"
   },
   "outputs": [],
   "source": [
    "# Define all variables: \n",
    "\n",
    "# mean and std of gaussian for number of polygons to insert in the image\n",
    "mean_number_of_polygons = 10\n",
    "std_number_of_polygons = 1\n",
    "\n",
    "# mean and std of gaussian from which we pick the side length\n",
    "mean_side_length = 100\n",
    "std_side_length = 30\n",
    "\n",
    "polygon_stretch = 20 # pick value from 0 to 100; higher value means lesser regular polygon\n",
    "cutoff_area = 5000 # cutoff for hexagons that are too small\n",
    "\n",
    "number_of_images = 2 # number of images to test the code on\n",
    "image_size = 1024 # length of side of image (in pixels)\n",
    "canvas_stretch = 2*(mean_side_length+2*std_side_length) # number of pixels to extend image by\n",
    "cropping = True # boolean switch to get cropped edges\n",
    "\n",
    "add_artefacts = True # boolean switch to add artefacts to the image\n",
    "artefact_size = 0.2 # radius of artefact as a percent of the mean side length\n",
    "number_of_artefacts = 3 # number of artefacts as a percent of the number of polygons\n",
    "\n",
    "# probabilities of having a particular number of side\n",
    "side_list = [4, 5, 6, 7, 8, 9, 10]\n",
    "probabilities = [0.02, 0.15, 0.5, 0.15, 0.10, 0.05, 0.03]\n",
    "\n",
    "# kernel for erosion and dilation\n",
    "kernel_size = 3\n",
    "kernel = np.ones((kernel_size, kernel_size), np.uint8)\n",
    "\n",
    "structure = np.ones((3, 3), dtype=int)"
   ]
  },
  {
   "cell_type": "code",
   "execution_count": null,
   "metadata": {
    "id": "FJ-ediaHHxQW"
   },
   "outputs": [],
   "source": [
    "def point_in_circle(x_in, y_in, radius_in, scale):\n",
    "  ''' Gives a point which lies within a circle of radius `radius_in` \n",
    "  and centre `(x_in, y_in)`'''\n",
    "  # random angle\n",
    "  alpha = 2 * np.pi * random.random()\n",
    "  # random radius\n",
    "  r = radius_in * np.sqrt(random.random()) * scale/100\n",
    "  # calculating coordinates\n",
    "  x_out = r * np.cos(alpha) + x_in\n",
    "  y_out = r * np.sin(alpha) + y_in\n",
    "\n",
    "  return(x_out, y_out)"
   ]
  },
  {
   "cell_type": "code",
   "execution_count": null,
   "metadata": {
    "id": "vN-mFuzOvqhu"
   },
   "outputs": [],
   "source": [
    "def generate_image():\n",
    "  # get number of polygons in the image from a normal distribution\n",
    "  number_of_polygons = int(np.random.normal(mean_number_of_polygons, std_number_of_polygons))\n",
    "  # list of number of sides of each polygon\n",
    "  polygons_list = np.random.choice(side_list, number_of_polygons, p=probabilities)\n",
    "  # generate the canvas\n",
    "  img = np.zeros((image_size+canvas_stretch, image_size+canvas_stretch))\n",
    "  # variables for future use\n",
    "  old_area = 0\n",
    "  true_number_of_hexagons = 0\n",
    "\n",
    "  # loop through each polygon:\n",
    "  for number_of_sides in polygons_list:\n",
    "    # location of centroid\n",
    "    centroid = [random.randint(canvas_stretch/2, img.shape[0]-canvas_stretch/2), \n",
    "                random.randint(canvas_stretch/2, img.shape[1]-canvas_stretch/2)]\n",
    "    # internal angle of each side\n",
    "    internal_angle = 360/number_of_sides \n",
    "    # orientation of the first side\n",
    "    orientation = random.randint(0, int(internal_angle)-1)\n",
    "    # side length of regular polygon; also radius of circle where polygon is inscribed\n",
    "    side_length = np.random.normal(mean_side_length, std_side_length)\n",
    "    # initialise a list of the x and y coordinates of the vertices\n",
    "    vertices = []\n",
    "    \n",
    "    # loop through each side:\n",
    "    for side in range(number_of_sides):\n",
    "      # get x and y coordinates of vertex\n",
    "      ideal_x = np.cos((orientation+side*internal_angle)*np.pi/180)*side_length + centroid[0]\n",
    "      ideal_y = np.sin((orientation+side*internal_angle)*np.pi/180)*side_length + centroid[1]\n",
    "      # add noise to vertex coordinates to make irregular polygons\n",
    "      vertex_x, vertex_y = point_in_circle(ideal_x, ideal_y, side_length/2, polygon_stretch)\n",
    "      # append the noisy coordinates to the list\n",
    "      vertices.append([int(vertex_x), int(vertex_y)])\n",
    "      # leave loop through each side\n",
    "    \n",
    "    # make a 2D numpy array of the x,y coordinates of the vertices\n",
    "    vertices = np.array(vertices)\n",
    "    # add the polygon to the canvas\n",
    "    polygon = cv2.fillConvexPoly(img, points=vertices, color=255)\n",
    "    # calculate the extra area that the polygon adds\n",
    "    added_area = np.sum(polygon)/255 - old_area\n",
    "    # if that area is greater than a cutoff value, add 1 to the true number of hexagons\n",
    "    # this is done to deal with almost fully overlapping hexagons and small hexagons\n",
    "    if added_area >= cutoff_area:\n",
    "      true_number_of_hexagons += 1\n",
    "    # update the value of old area\n",
    "    old_area = np.sum(polygon)/255\n",
    "    # leave loop through each polygon\n",
    "\n",
    "  # if we do not want cropped hexagons in the image\n",
    "  if not cropping:\n",
    "    out_hexagon_number = true_number_of_hexagons\n",
    "  # if we want cropped hexagons in the image\n",
    "  else:\n",
    "    out_hexagon_number = (np.sum(img[canvas_stretch//2:-canvas_stretch//2, \n",
    "                                     canvas_stretch//2:-canvas_stretch//2]))/\\\n",
    "                                     (np.sum(img)/true_number_of_hexagons)\n",
    "  \n",
    "  # if we want to add artefacts\n",
    "  if add_artefacts:\n",
    "    for artefact in range(number_of_artefacts*number_of_polygons):\n",
    "      centre = (random.randint(canvas_stretch/2, img.shape[0]-canvas_stretch/2), \n",
    "                random.randint(canvas_stretch/2, img.shape[1]-canvas_stretch/2))\n",
    "      radius = int(artefact_size*mean_side_length)\n",
    "      img = cv2.circle(img, centre, radius, color=0, thickness=-1)\n",
    "  # if we do not want cropped hexagons in the image\n",
    "  if not cropping:\n",
    "    out_img = np.uint8(img)\n",
    "  # if we want cropped hexagons in the image\n",
    "  else:\n",
    "    out_img = np.uint8(img[canvas_stretch//2:-canvas_stretch//2, canvas_stretch//2:-canvas_stretch//2])\n",
    "\n",
    "  return out_img, out_hexagon_number, true_number_of_hexagons"
   ]
  },
  {
   "cell_type": "code",
   "execution_count": null,
   "metadata": {
    "id": "wFfkTQN0c9uY"
   },
   "outputs": [],
   "source": [
    "# initialise the results list. This will be a list of dictionaries.\n",
    "results_list = []\n",
    "\n",
    "# loop through each image:\n",
    "for image_number in range(number_of_images):\n",
    "  # generate image and store its information\n",
    "  image, areal_value, given_value = generate_image()\n",
    "  # add the original image to the results list as an entry with blob number = 0\n",
    "  results_list.append({'name':'Areal value: ' + str(round(areal_value, 3)) + '; Given value: '+str(given_value),\n",
    "                       'array':image, \n",
    "                       'areal_value': areal_value,\n",
    "                       'given_value': given_value, \n",
    "                       'image': image_number+1,\n",
    "                       'blob': 0})\n",
    "  # perform erosion and dilation to remove any super small domains\n",
    "  erosion = cv2.erode(image, kernel, iterations=5)\n",
    "  dilation = cv2.dilate(erosion, kernel, iterations=5)\n",
    "  # label each connected blob\n",
    "  labeled, ncomponents = label(dilation, structure)\n",
    "\n",
    "  # loop through each blob:\n",
    "  for blob_number in range(1, np.max(labeled)+1):\n",
    "    # make sure the blob size is bigger than a threshold. Else the blob is too small and noisy\n",
    "    if np.sum(np.where(labeled==blob_number, 1, 0))>cutoff_area:\n",
    "      # get an image with just the current blob\n",
    "      filtered_image = np.where(labeled==blob_number, 1, 0)\n",
    "      filtered_image = filtered_image.astype('uint8')\n",
    "      # copy that image\n",
    "      res = filtered_image.copy()\n",
    "      # fill any holes in that image\n",
    "      contour,hier = cv2.findContours(res,cv2.RETR_CCOMP,cv2.CHAIN_APPROX_SIMPLE)\n",
    "      for cnt in contour:\n",
    "        cv2.drawContours(res,[cnt],0,255,-1)\n",
    "      # copy the closed image\n",
    "      closed_image = res.copy()\n",
    "\n",
    "      ### ---- ANALYSIS CODE BELOW ---- \n",
    "\n",
    "      edges = cv2.Canny(closed_image, threshold1=.2, threshold2=.5, apertureSize = 3)\n",
    "\n",
    "      width = len(edges[0])\n",
    "      height = len(edges)\n",
    "      ANG = pi/12\n",
    "      NullLine = [[-1, -1, -1, -1]]\n",
    "\n",
    "      lines = cv2.HoughLinesP(image=edges, rho=1, theta=1*np.pi/180, threshold=25, minLineLength=5, maxLineGap=50)\n",
    "      smoothOutLines()\n",
    "      newLines = deleteNullLines(lines)\n",
    "      reOrientLines(newLines)\n",
    "      connectVertices(newLines)\n",
    "\n",
    "      segments = findSegments(newLines)\n",
    "      # connectSegments(segments)\n",
    "\n",
    "      area = 0\n",
    "      numHexagons = 0\n",
    "\n",
    "      for segment in segments:\n",
    "        area, numHexagons = findOuterHexagonArea(segment, area, numHexagons)\n",
    "\n",
    "      for segment in segments:\n",
    "        segment.printToPicture(edges)\n",
    "# segment.printAng()\n",
    "\n",
    "# for line in newLines:\n",
    "#   x1, y1, x2, y2 = line[0]\n",
    "#   print(\"x1 {} y1 {} x2 {} y2 {}\".format(x1, y1, x2, y2))\n",
    "      averageArea = area/numHexagons\n",
    "      estimation = np.sum(closed_image) / (averageArea * 255)\n",
    "\n",
    "\n",
    "      ### ---- ANALYSIS CODE ABOVE ---- \n",
    "\n",
    "      # append the analysed blob image to the results list\n",
    "      results_list.append({'name':'blob number {0}; {1} hexagons'.format(blob_number, round(estimation, 3)), # change variable name with whatever your estimation value variable is\n",
    "                           'array':edges, # Change `edges` with whatever your output variable name is\n",
    "                           'areal_value': estimation, # change variable name with whatever your estimation value variable is\n",
    "                           'given_value': int(round(estimation, 0)), # change variable name with whatever your estimation value variable is\n",
    "                           'image': image_number+1,\n",
    "                           'blob': blob_number})"
   ]
  },
  {
   "cell_type": "code",
   "execution_count": null,
   "metadata": {
    "id": "6G2A7pHh7Ior"
   },
   "outputs": [],
   "source": [
    "# ------ RUN THIS CELL ONLY IF YOU WANT TO DISPLAY THE IMAGE RESULTS ------ #\n",
    "\n",
    "numberOfImages = len(results_list)\n",
    "\n",
    "columns = 4 # you can change this based on what feels most comfortable for your viewing\n",
    "fig, axes = plt.subplots(numberOfImages//columns+1, columns, figsize=(16, 16*(numberOfImages//columns+1)/columns), sharex=False, sharey=False)\n",
    "for i, ax in enumerate(axes.flatten()):\n",
    "  if i<numberOfImages:\n",
    "    ax.imshow(results_list[i]['array'])\n",
    "    ax.title.set_text(results_list[i]['name'])\n",
    "    ax.set_axis_off()\n",
    "plt.tight_layout()"
   ]
  },
  {
   "cell_type": "code",
   "execution_count": null,
   "metadata": {
    "colab": {
     "base_uri": "https://localhost:8080/"
    },
    "id": "R_nDgtxewmM_",
    "outputId": "b111b51b-d50a-48ca-959c-46487f568555"
   },
   "outputs": [],
   "source": [
    "# results_list[-1]['image']\n",
    "df = pd.DataFrame(index=range(1, results_list[-1]['image']+1),columns=['Areal value', 'Given value' ,'Estimated value'])\n",
    "estimated_value = 0\n",
    "image_number = 1\n",
    "for result in results_list:\n",
    "  print(result['image'], result['blob'], df.loc[result['image']]['Areal value'])\n",
    "  # while result['image']==image_number:\n",
    "  if result['blob']==0 and result['image']!=image_number:\n",
    "    df.loc[result['image']-1]['Estimated value'] = estimated_value\n",
    "    estimated_value = 0\n",
    "    image_number = result['image']\n",
    "    df.loc[result['image']]['Areal value'] = result['areal_value']\n",
    "    df.loc[result['image']]['Given value'] = result['given_value']\n",
    "  elif result['blob']==0 and result['image']==image_number:\n",
    "    df.loc[result['image']]['Areal value'] = result['areal_value']\n",
    "    df.loc[result['image']]['Given value'] = result['given_value']\n",
    "  else:\n",
    "    estimated_value += result['areal_value']\n",
    "df.loc[result['image']]['Estimated value'] = estimated_value\n",
    "# df"
   ]
  },
  {
   "cell_type": "code",
   "execution_count": null,
   "metadata": {
    "colab": {
     "base_uri": "https://localhost:8080/",
     "height": 112
    },
    "id": "6iEG3hhnwwJ8",
    "outputId": "ee48bd39-daba-4692-bd93-f515b6ebeac9"
   },
   "outputs": [],
   "source": [
    "df"
   ]
  },
  {
   "cell_type": "code",
   "execution_count": null,
   "metadata": {
    "colab": {
     "base_uri": "https://localhost:8080/",
     "height": 283
    },
    "id": "KlxSjwpbVsUY",
    "outputId": "ec5ae33c-71af-4d3b-faf2-7682fc000c75"
   },
   "outputs": [],
   "source": [
    "fig, ax = plt.subplots()\n",
    "df.plot(y='Areal value', ax=ax)\n",
    "df.plot(y='Given value', ax=ax)\n",
    "df.plot(y='Estimated value', ax=ax)"
   ]
  },
  {
   "cell_type": "markdown",
   "metadata": {
    "id": "sWkmCQkRsaWm"
   },
   "source": [
    "## Follow process for one simulated image"
   ]
  },
  {
   "cell_type": "code",
   "execution_count": null,
   "metadata": {
    "colab": {
     "base_uri": "https://localhost:8080/",
     "height": 484
    },
    "id": "Qw9uYMsG1Z0q",
    "outputId": "3aee2e0b-cc88-4e7a-c66f-5307ba31d42b"
   },
   "outputs": [],
   "source": [
    "image2, areal_value2, given_value2 = generate_image()\n",
    "\n",
    "plt.figure(figsize=(8,8))\n",
    "plt.imshow(image2, cmap='gray')\n",
    "plt.axis('off')"
   ]
  },
  {
   "cell_type": "code",
   "execution_count": null,
   "metadata": {
    "colab": {
     "base_uri": "https://localhost:8080/",
     "height": 484
    },
    "id": "igfZSELEp5M8",
    "outputId": "d719f780-eefd-401e-d76c-f1d7df29a29f"
   },
   "outputs": [],
   "source": [
    "image, areal_value, given_value = generate_image()\n",
    "\n",
    "plt.figure(figsize=(8,8))\n",
    "plt.imshow(image, cmap='gray')\n",
    "plt.axis('off')"
   ]
  },
  {
   "cell_type": "code",
   "execution_count": null,
   "metadata": {
    "colab": {
     "base_uri": "https://localhost:8080/",
     "height": 406
    },
    "id": "SQnOSGJM63I3",
    "outputId": "04825930-3727-4c0f-8a40-eba9b09c165d"
   },
   "outputs": [],
   "source": [
    "image = cv2.imread('combined_data/20221115_2_F2_5000_mask.png', 0)\n",
    "\n",
    "plt.figure(figsize=(8,8))\n",
    "plt.imshow(image, cmap='gray')\n",
    "plt.axis('off')"
   ]
  },
  {
   "cell_type": "code",
   "execution_count": null,
   "metadata": {
    "colab": {
     "base_uri": "https://localhost:8080/",
     "height": 406
    },
    "id": "oMAv1Fdqsmbh",
    "outputId": "198df630-441c-4836-a010-f648671e698f"
   },
   "outputs": [],
   "source": [
    "# perform erosion and dilation to remove any super small domains\n",
    "erosion = cv2.erode(image, kernel, iterations=5)\n",
    "dilation = cv2.dilate(erosion, kernel, iterations=5)\n",
    "# label each connected blob\n",
    "labeled, ncomponents = label(dilation, structure)\n",
    "\n",
    "plt.figure(figsize=(8,8))\n",
    "plt.imshow(labeled, cmap='gray')\n",
    "plt.axis('off')"
   ]
  },
  {
   "cell_type": "code",
   "execution_count": null,
   "metadata": {
    "colab": {
     "base_uri": "https://localhost:8080/",
     "height": 406
    },
    "id": "GeuG6n7WtB39",
    "outputId": "569b8a0d-6bc7-4a6f-e9db-d51afd9637f1"
   },
   "outputs": [],
   "source": [
    "blob_number=5\n",
    "filtered_image = np.where(labeled==blob_number, 1, 0)\n",
    "filtered_image = filtered_image.astype('uint8')\n",
    "# copy that image\n",
    "res = filtered_image.copy()\n",
    "# fill any holes in that image\n",
    "contour,hier = cv2.findContours(res,cv2.RETR_CCOMP,cv2.CHAIN_APPROX_SIMPLE)\n",
    "for cnt in contour:\n",
    "  cv2.drawContours(res,[cnt],0,255,-1)\n",
    "# copy the closed image\n",
    "closed_image = res.copy()\n",
    "\n",
    "plt.figure(figsize=(8,8))\n",
    "plt.imshow(closed_image, cmap='gray')\n",
    "plt.axis('off')"
   ]
  },
  {
   "cell_type": "code",
   "execution_count": null,
   "metadata": {
    "colab": {
     "base_uri": "https://localhost:8080/",
     "height": 406
    },
    "id": "76XONbwktBvY",
    "outputId": "03435c17-8bc1-4928-f922-85b26a4da81a"
   },
   "outputs": [],
   "source": [
    "edges = cv2.Canny(closed_image, threshold1=.2, threshold2=.5, apertureSize = 3)\n",
    "\n",
    "plt.figure(figsize=(8,8))\n",
    "plt.imshow(edges, cmap='gray')\n",
    "plt.axis('off')"
   ]
  },
  {
   "cell_type": "code",
   "execution_count": null,
   "metadata": {
    "colab": {
     "base_uri": "https://localhost:8080/",
     "height": 406
    },
    "id": "9hO1mePttBZv",
    "outputId": "a66bfba2-9484-4e00-b965-b9705f872b7f"
   },
   "outputs": [],
   "source": [
    "width = len(edges[0])\n",
    "height = len(edges)\n",
    "ANG = pi/12\n",
    "NullLine = [[-1, -1, -1, -1]]\n",
    "\n",
    "lines = cv2.HoughLinesP(image=edges, rho=1, theta=1*np.pi/180, threshold=25, minLineLength=5, maxLineGap=50)\n",
    "\n",
    "for points in lines:\n",
    "  x1, y1, x2, y2 = points[0]\n",
    "  #print(\"counter is {} line is {}\".format(counter, points))\n",
    "  cv2.line(edges, (x1, y1), (x2,y2), 255, 3)\n",
    "  cv2.circle(edges, (x1,y1), 10, 255, 2)\n",
    "  cv2.circle(edges, (x2,y2), 10, 255, 2)\n",
    "\n",
    "plt.figure(figsize=(8,8))\n",
    "plt.imshow(edges, cmap='gray')\n",
    "plt.axis('off')"
   ]
  },
  {
   "cell_type": "code",
   "execution_count": null,
   "metadata": {
    "colab": {
     "base_uri": "https://localhost:8080/",
     "height": 406
    },
    "id": "K7icsgbotjOA",
    "outputId": "1887927c-4da8-47fe-f2a4-0e90da409d68"
   },
   "outputs": [],
   "source": [
    "smoothOutLines()\n",
    "newLines = deleteNullLines(lines)\n",
    "reOrientLines(newLines)\n",
    "connectVertices(newLines)\n",
    "\n",
    "background = np.zeros(edges.shape)\n",
    "\n",
    "for newLine in newLines:\n",
    "  x1, y1, x2, y2 = newLine[0]\n",
    "  #print(\"counter is {} line is {}\".format(counter, points))\n",
    "  cv2.line(background, (x1, y1), (x2,y2), 255, 3)\n",
    "  cv2.circle(background, (x1,y1), 10, 255, 2)\n",
    "  cv2.circle(background, (x2,y2), 10, 255, 2)\n",
    "\n",
    "plt.figure(figsize=(8,8))\n",
    "plt.imshow(background, cmap='gray')\n",
    "plt.axis('off')"
   ]
  },
  {
   "cell_type": "code",
   "execution_count": null,
   "metadata": {
    "colab": {
     "base_uri": "https://localhost:8080/"
    },
    "id": "OEzY-AqWwPqq",
    "outputId": "84b31969-1591-4cf4-f5d8-3ea1ecedd750"
   },
   "outputs": [],
   "source": [
    "segments = findSegments(newLines)\n",
    "# connectSegments(segments)\n",
    "\n",
    "area = 0\n",
    "numHexagons = 0\n",
    "\n",
    "for segment in segments:\n",
    "  area, numHexagons = findOuterHexagonArea(segment, area, numHexagons)\n",
    "\n",
    "for segment in segments:\n",
    "  segment.printToPicture(edges)\n",
    "#segment.printAng()\n",
    "\n",
    "# for line in newLines:\n",
    "#   x1, y1, x2, y2 = line[0]\n",
    "#   print(\"x1 {} y1 {} x2 {} y2 {}\".format(x1, y1, x2, y2))\n",
    "averageArea = area/numHexagons\n",
    "estimation = np.sum(closed_image) / (averageArea * 255)\n",
    "\n",
    "print(estimation)"
   ]
  },
  {
   "cell_type": "code",
   "execution_count": null,
   "metadata": {
    "id": "sQ6UFUxsz3_u"
   },
   "outputs": [],
   "source": [
    "results_list = []\n",
    "\n",
    "# loop through each blob:\n",
    "for blob_number in range(1, np.max(labeled)+1):\n",
    "  # make sure the blob size is bigger than a threshold. Else the blob is too small and noisy\n",
    "  if np.sum(np.where(labeled==blob_number, 1, 0))>cutoff_area:\n",
    "    # get an image with just the current blob\n",
    "    filtered_image = np.where(labeled==blob_number, 1, 0)\n",
    "    filtered_image = filtered_image.astype('uint8')\n",
    "    # copy that image\n",
    "    res = filtered_image.copy()\n",
    "    # fill any holes in that image\n",
    "    contour,hier = cv2.findContours(res,cv2.RETR_CCOMP,cv2.CHAIN_APPROX_SIMPLE)\n",
    "    for cnt in contour:\n",
    "      cv2.drawContours(res,[cnt],0,255,-1)\n",
    "    # copy the closed image\n",
    "    closed_image = res.copy()\n",
    "\n",
    "    ### ---- YOUR CODE HERE ---- \n",
    "\n",
    "    edges = cv2.Canny(closed_image, threshold1=.2, threshold2=.5, apertureSize = 3)\n",
    "\n",
    "    width = len(edges[0])\n",
    "    height = len(edges)\n",
    "    ANG = pi/12\n",
    "    NullLine = [[-1, -1, -1, -1]]\n",
    "\n",
    "    lines = cv2.HoughLinesP(image=edges, rho=1, theta=1*np.pi/180, threshold=25, minLineLength=5, maxLineGap=50)\n",
    "    smoothOutLines()\n",
    "    newLines = deleteNullLines(lines)\n",
    "    reOrientLines(newLines)\n",
    "    connectVertices(newLines)\n",
    "\n",
    "    segments = findSegments(newLines)\n",
    "    # connectSegments(segments)\n",
    "\n",
    "    area = 0\n",
    "    numHexagons = 0\n",
    "\n",
    "    for segment in segments:\n",
    "      area, numHexagons = findOuterHexagonArea(segment, area, numHexagons)\n",
    "\n",
    "    for segment in segments:\n",
    "      segment.printToPicture(edges)\n",
    "#segment.printAng()\n",
    "\n",
    "# for line in newLines:\n",
    "#   x1, y1, x2, y2 = line[0]\n",
    "#   print(\"x1 {} y1 {} x2 {} y2 {}\".format(x1, y1, x2, y2))\n",
    "    averageArea = area/numHexagons\n",
    "    estimation = np.sum(closed_image) / (averageArea * 255)\n",
    "\n",
    "\n",
    "    ### ---- YOUR CODE HERE ---- \n",
    "\n",
    "    # append the analysed blob image to the results list\n",
    "    results_list.append({'name':'blob number {0}; {1} hexagons'.format(blob_number, round(estimation, 3)), # change variable name with whatever your estimation value variable is\n",
    "                          'array':edges, # Change `edges` with whatever your output variable name is\n",
    "                          'areal_value': estimation, # change variable name with whatever your estimation value variable is\n",
    "                          'given_value': int(round(estimation, 0)), # change variable name with whatever your estimation value variable is\n",
    "                          'image': image_number+1,\n",
    "                          'blob': blob_number})\n",
    "      \n",
    "# results_list\n",
    "\n",
    "res = [ sub['name'] for sub in results_list ]\n",
    "print(res)"
   ]
  },
  {
   "cell_type": "code",
   "execution_count": null,
   "metadata": {
    "colab": {
     "base_uri": "https://localhost:8080/"
    },
    "id": "WBogppjp05vn",
    "outputId": "d16cf893-de7b-4262-dbbd-126b4f19c745"
   },
   "outputs": [],
   "source": [
    "print(areal_value)"
   ]
  },
  {
   "cell_type": "code",
   "execution_count": null,
   "metadata": {
    "id": "uuEDo_7B2Rd0"
   },
   "outputs": [],
   "source": []
  },
  {
   "cell_type": "markdown",
   "metadata": {
    "id": "QCFUw96Johzj"
   },
   "source": [
    "# Analysis of true data"
   ]
  },
  {
   "cell_type": "code",
   "execution_count": null,
   "metadata": {
    "id": "QgnRD8oUce8s"
   },
   "outputs": [],
   "source": [
    "# from google.colab import drive\n",
    "# drive.mount('/content/drive')"
   ]
  },
  {
   "cell_type": "code",
   "execution_count": null,
   "metadata": {},
   "outputs": [],
   "source": [
    "ls ../data/masks"
   ]
  },
  {
   "cell_type": "code",
   "execution_count": null,
   "metadata": {
    "id": "Thsu9x8b8paL"
   },
   "outputs": [],
   "source": [
    "# Step 1: Get the filepaths of the frames\n",
    "\n",
    "# set name of folder with all the images ----> ENTER PATH HERE\n",
    "# dir_name = '/content/drive/MyDrive/Gr_images_Set_4'\n",
    "dir_name = 'combined_data'\n",
    "\n",
    "# check if the directory exists; if yes, make a list of all the filepaths\n",
    "if os.path.isdir(dir_name):\n",
    "  frame_paths = []\n",
    "  for dirpath, dirnames, filenames in os.walk(dir_name):\n",
    "    for name in filenames:\n",
    "      if 'mask' in name:\n",
    "        frame_paths.append(os.path.join(dirpath, name))\n",
    "else:\n",
    "  raise NameError('')"
   ]
  },
  {
   "cell_type": "code",
   "execution_count": null,
   "metadata": {
    "colab": {
     "base_uri": "https://localhost:8080/"
    },
    "id": "KqHYuhYilM_d",
    "outputId": "4ad0148d-b080-4efb-b469-727cd3641556"
   },
   "outputs": [],
   "source": [
    "frame_paths.sort()\n",
    "frame_paths"
   ]
  },
  {
   "cell_type": "code",
   "execution_count": null,
   "metadata": {
    "id": "6Z8Huo8MmMm8"
   },
   "outputs": [],
   "source": [
    "# allImages = [1, 4, 10, 11, 12, 22, 23] # add your image numbers here\n",
    "\n",
    "# image_paths = []\n",
    "# mask_paths_other = []\n",
    "# mask_paths_testing = []\n",
    "# for path in frame_paths:\n",
    "#   if 'mask' in path:\n",
    "#     if path.split('_')[-1][:-4] in [str(i) for i in allImages]:\n",
    "#       mask_paths_testing.append(path)\n",
    "#     else:\n",
    "#       mask_paths_other.append(path)\n",
    "#   else:\n",
    "#     image_paths.append(path)"
   ]
  },
  {
   "cell_type": "code",
   "execution_count": null,
   "metadata": {
    "colab": {
     "base_uri": "https://localhost:8080/"
    },
    "id": "ayVxaI3Tb1pR",
    "outputId": "035fd556-14f5-482b-a1c4-6c24be21b63d"
   },
   "outputs": [],
   "source": [
    "len(frame_paths)"
   ]
  },
  {
   "cell_type": "code",
   "execution_count": null,
   "metadata": {
    "id": "29Qh-Z8emcyI"
   },
   "outputs": [],
   "source": [
    "mask_paths_testing = frame_paths[:]"
   ]
  },
  {
   "cell_type": "code",
   "execution_count": null,
   "metadata": {
    "colab": {
     "base_uri": "https://localhost:8080/"
    },
    "id": "eYL_7JOkvFge",
    "outputId": "ec4c6cf4-c50f-4d3a-fd73-84609960a89c"
   },
   "outputs": [],
   "source": [
    "# results_list[2]['name']\n",
    "# float(results_list[2]['name'].split()[5])\n",
    "mask_paths_testing"
   ]
  },
  {
   "cell_type": "code",
   "execution_count": null,
   "metadata": {
    "colab": {
     "base_uri": "https://localhost:8080/",
     "height": 1000
    },
    "id": "RoBpVwxdxt0s",
    "outputId": "26ba5a74-6b83-4231-ef01-d8172b3d5a68"
   },
   "outputs": [],
   "source": [
    "\n",
    "kernel_size = 3\n",
    "kernel = np.ones((kernel_size, kernel_size), np.uint8)\n",
    "structure = np.ones((3, 3), dtype=int)\n",
    "results_list = []\n",
    "\n",
    "filter_area = 5000 # change as per requirement\n",
    "\n",
    "for p in range(len(mask_paths_testing)):\n",
    "  path = mask_paths_testing[p]\n",
    "  print('index: ', p, '; path: ', path)\n",
    "  \n",
    "  image = cv2.imread(path, 0)\n",
    "\n",
    "  erosion = cv2.erode(image, kernel, iterations=2)\n",
    "  dilation = cv2.dilate(erosion, kernel, iterations=2)\n",
    "\n",
    "  labeled, ncomponents = label(dilation, structure)\n",
    "\n",
    "  results_list.append({'name':path.split('/')[-1],\n",
    "                       'array':image})\n",
    "\n",
    "  for blob_number in range(1, np.max(labeled)+1):\n",
    "    try:\n",
    "      if np.sum(np.where(labeled==blob_number, 1, 0))>filter_area:\n",
    "        filtered_image = np.where(labeled==blob_number, 1, 0)\n",
    "        filtered_image = filtered_image.astype('uint8')\n",
    "\n",
    "        res = filtered_image.copy()\n",
    "        contour,hier = cv2.findContours(res,cv2.RETR_CCOMP,cv2.CHAIN_APPROX_SIMPLE)\n",
    "\n",
    "        for cnt in contour:\n",
    "          cv2.drawContours(res,[cnt],0,255,-1)\n",
    "\n",
    "        closed_image = res.copy()\n",
    "\n",
    "        ### ---- YOUR CODE HERE ---- \n",
    "\n",
    "        edges = cv2.Canny(closed_image, threshold1=.2, threshold2=.5, apertureSize = 3)\n",
    "\n",
    "        width = len(edges[0])\n",
    "        height = len(edges)\n",
    "        ANG = pi/12\n",
    "        NullLine = [[-1, -1, -1, -1]]\n",
    "\n",
    "        lines = cv2.HoughLinesP(image=edges, rho=1, theta=1*np.pi/180, threshold=13, minLineLength=15, maxLineGap=20)\n",
    "\n",
    "        smoothOutLines()\n",
    "        newLines = deleteNullLines(lines)\n",
    "        reOrientLines(newLines)\n",
    "        connectVertices(newLines)\n",
    "\n",
    "        segments = findSegments(newLines)\n",
    "        # connectSegments(segments)\n",
    "\n",
    "        area = 0\n",
    "        numHexagons = 0\n",
    "\n",
    "        for segment in segments:\n",
    "          area, numHexagons = findOuterHexagonArea(segment, area, numHexagons)\n",
    "\n",
    "        #estimation = area/numHexagons\n",
    "        #print(\"area {} numHexagons {}\".format(area, numHexagons))\n",
    "        if numHexagons > 0:\n",
    "          averageArea = area / numHexagons\n",
    "          estimation = np.sum(closed_image) / (averageArea * 255)\n",
    "          #print(\"THE ESTIMATED NUMBER OF HEXAGONS IS {}\".format(estimation))\n",
    "        else:\n",
    "          estimation = 0\n",
    "          #print(\"NO HEXAGONS DETECTED\")\n",
    "\n",
    "        for segment in segments:\n",
    "          segment.printToPicture(edges)\n",
    "          # print(\"break\")\n",
    "          # segment.listprint()\n",
    "\n",
    "        ### ---- YOUR CODE HERE ---- \n",
    "\n",
    "        results_list.append({'name':'blob number {0}; {1} hexagons; {2} avg area; {3} area'.format(blob_number, estimation, averageArea, np.sum(closed_image)/255), # change variable name with whatever your estimation value variable is\n",
    "                            'array':edges}) # Change `lines` with whatever your output variable name is\n",
    "    except:\n",
    "      pass\n",
    "    # else:\n",
    "    #   filtered_image = np.where(labeled==blob_number, 1, 0)\n",
    "    #   filtered_image = filtered_image.astype('uint8')\n",
    "\n",
    "    #   res = filtered_image.copy()\n",
    "    #   contour,hier = cv2.findContours(res,cv2.RETR_CCOMP,cv2.CHAIN_APPROX_SIMPLE)\n",
    "\n",
    "    #   for cnt in contour:\n",
    "    #     cv2.drawContours(res,[cnt],0,255,-1)\n",
    "\n",
    "    #   closed_image = res.copy()\n",
    "    #   results_list.append({'name':'blob number {0}; {1} hexagons'.format(blob_number, 1.00), # change variable name with whatever your estimation value variable is\n",
    "    #                        'array':closed_image}) # Change `lines` with whatever your output variable name is\n",
    "\n",
    "numberOfImages = len(results_list)\n",
    "\n",
    "columns = 3 # you can change this based on what feels most comfortable for your viewing\n",
    "fig, axes = plt.subplots(numberOfImages//columns+1, columns, figsize=(12, 8*(numberOfImages//columns+1)/columns), sharex=False, sharey=False)\n",
    "for i, ax in enumerate(axes.flatten()):\n",
    "  if i<numberOfImages:\n",
    "    ax.imshow(results_list[i]['array'])\n",
    "    ax.title.set_text(results_list[i]['name'].split()[:5])\n",
    "plt.tight_layout()\n"
   ]
  },
  {
   "cell_type": "code",
   "execution_count": null,
   "metadata": {
    "colab": {
     "base_uri": "https://localhost:8080/"
    },
    "id": "T1AaPVr7wBlw",
    "outputId": "46df0109-6aae-487e-98e1-bb905ff9133b"
   },
   "outputs": [],
   "source": [
    "len(results_list)"
   ]
  },
  {
   "cell_type": "code",
   "execution_count": null,
   "metadata": {
    "colab": {
     "base_uri": "https://localhost:8080/"
    },
    "id": "T9i9SYPpwIhi",
    "outputId": "f91ef781-54ba-4348-9145-30ea607c7934"
   },
   "outputs": [],
   "source": [
    "myarr = []\n",
    "myarr.append(['name', 0])\n",
    "myarr[0][1] += 1\n",
    "myarr"
   ]
  },
  {
   "cell_type": "code",
   "execution_count": null,
   "metadata": {
    "id": "at0S96FxvTVL"
   },
   "outputs": [],
   "source": [
    "hexagon_count_array = []\n",
    "image_count = -1\n",
    "for i in range(len(results_list)):\n",
    "  if 'mask' in results_list[i]['name']:\n",
    "    hexagon_count_array.append([results_list[i]['name'], 0, 0, 0, 0])\n",
    "    image_count += 1\n",
    "  else:\n",
    "    hexagon_count_array[image_count][1] += float(results_list[i]['name'].split()[3])\n",
    "    hexagon_count_array[image_count][2] += float(results_list[i]['name'].split()[5])\n",
    "    hexagon_count_array[image_count][3] += float(results_list[i]['name'].split()[8])\n",
    "    hexagon_count_array[image_count][4] += 1"
   ]
  },
  {
   "cell_type": "code",
   "execution_count": null,
   "metadata": {
    "colab": {
     "base_uri": "https://localhost:8080/"
    },
    "id": "U_t2FDr-XpBi",
    "outputId": "99a9ec14-34f4-4128-fe71-a3e049dabe53"
   },
   "outputs": [],
   "source": [
    "len(hexagon_count_array) # [filename, number of hex, total of avg areas, total area, number of blobs]"
   ]
  },
  {
   "cell_type": "code",
   "execution_count": null,
   "metadata": {
    "colab": {
     "base_uri": "https://localhost:8080/",
     "height": 424
    },
    "id": "iX5MmUSNaNqh",
    "outputId": "c29b5c0f-80de-48de-f20e-0db5966c9a29"
   },
   "outputs": [],
   "source": [
    "df_hexagons = pd.DataFrame(hexagon_count_array, columns=['filename', 'number of hex', 'total of avg areas', 'total area', 'number of blobs'])\n",
    "df_hexagons"
   ]
  },
  {
   "cell_type": "code",
   "execution_count": null,
   "metadata": {
    "id": "RBffAozC6h3D"
   },
   "outputs": [],
   "source": [
    "df_hexagons.to_csv('hexagon_semi_processed_data.csv')"
   ]
  },
  {
   "cell_type": "markdown",
   "metadata": {
    "id": "TneoTMMOw1_c"
   },
   "source": [
    "----- BREAK -----"
   ]
  },
  {
   "cell_type": "code",
   "execution_count": null,
   "metadata": {
    "colab": {
     "base_uri": "https://localhost:8080/",
     "height": 424
    },
    "id": "W14iEBTQtWEA",
    "outputId": "6bc61c2c-b80e-4735-d9c3-a1857d495520"
   },
   "outputs": [],
   "source": [
    "df_hex_raw = pd.read_csv('hexagon_semi_processed_data_set6.csv', index_col=0)\n",
    "df_hex_raw"
   ]
  },
  {
   "cell_type": "code",
   "execution_count": null,
   "metadata": {
    "colab": {
     "base_uri": "https://localhost:8080/"
    },
    "id": "WWx6xmITvsWJ",
    "outputId": "f930382c-319f-49df-c3c1-76070ff46bab"
   },
   "outputs": [],
   "source": [
    "kernel_size = 3\n",
    "kernel = np.ones((kernel_size, kernel_size), np.uint8)\n",
    "structure = np.ones((3, 3), dtype=int)\n",
    "\n",
    "df_hex_raw[\"True Hex Num\"] = np.zeros(df_hex_raw.shape[0])\n",
    "df_hex_raw[\"avg domain size\"] = np.zeros(df_hex_raw.shape[0])\n",
    "for index in range(df_hex_raw.shape[0]):\n",
    "  if df_hex_raw.iloc[index,0]=='poor':\n",
    "    df_hex_raw.iloc[index,7] = np.nan\n",
    "    df_hex_raw.iloc[index,8] = np.nan\n",
    "  elif df_hex_raw.iloc[index,0]=='good':\n",
    "    df_hex_raw.iloc[index,7]=(df_hex_raw.iloc[index,2]+df_hex_raw.iloc[index,6])/2\n",
    "    df_hex_raw.iloc[index,8] = df_hex_raw.iloc[index,4]/df_hex_raw.iloc[index,7]\n",
    "  elif df_hex_raw.iloc[index,0]=='blobs':\n",
    "    path = 'combined_data/' + df_hex_raw.iloc[index,1]\n",
    "    print(path)\n",
    "    image = cv2.imread(path, 0)\n",
    "    erosion = cv2.erode(image, kernel, iterations=2)\n",
    "    dilation = cv2.dilate(erosion, kernel, iterations=2)\n",
    "    labeled, ncomponents = label(dilation, structure)\n",
    "\n",
    "    blob_areas = np.zeros((ncomponents, 2))\n",
    "    for i in range(ncomponents):\n",
    "      blob_areas[i] = ([i, np.sum(np.where(labeled==i, 1, 0))])\n",
    "    y = blob_areas[1:, 1]\n",
    "    y_sort = np.sort(y)\n",
    "    x = range(1, y_sort.shape[0]+1)\n",
    "\n",
    "    kn = KneeLocator(x, y_sort, curve='convex', direction='increasing')\n",
    "    area = y_sort[kn.knee-1]\n",
    "    df_hex_raw.iloc[index,7] = np.nan\n",
    "    df_hex_raw.iloc[index,8] = area/2\n",
    "  else:\n",
    "    df_hex_raw.iloc[index,7] = float(df_hex_raw.iloc[index,0])\n",
    "    df_hex_raw.iloc[index,8] = df_hex_raw.iloc[index,4]/df_hex_raw.iloc[index,7]"
   ]
  },
  {
   "cell_type": "code",
   "execution_count": null,
   "metadata": {
    "colab": {
     "base_uri": "https://localhost:8080/",
     "height": 485
    },
    "id": "MpJKM34azrai",
    "outputId": "81b64079-7ea1-4223-d298-dafbb51db455"
   },
   "outputs": [],
   "source": [
    "# np.unique(df_hex_raw.iloc[:, 0])\n",
    "df_hex_raw"
   ]
  },
  {
   "cell_type": "code",
   "execution_count": null,
   "metadata": {
    "id": "A0nFYjwL4oNs"
   },
   "outputs": [],
   "source": [
    "df_hex_raw.to_csv('hexagon_fully_processed_data.csv')"
   ]
  },
  {
   "cell_type": "markdown",
   "metadata": {
    "id": "rPwy2lsiuZwW"
   },
   "source": [
    "------ BREAK -------"
   ]
  },
  {
   "cell_type": "code",
   "execution_count": null,
   "metadata": {
    "colab": {
     "base_uri": "https://localhost:8080/",
     "height": 522
    },
    "id": "Il9BrWPxucSh",
    "outputId": "d153b2b3-be4e-4d3b-a9d2-805370e924ab"
   },
   "outputs": [],
   "source": [
    "df_hex_full = pd.read_csv('hexagon_fully_processed_data_set6.csv', index_col=0)\n",
    "df_hex_full"
   ]
  },
  {
   "cell_type": "code",
   "execution_count": null,
   "metadata": {
    "colab": {
     "base_uri": "https://localhost:8080/"
    },
    "id": "lxtCZRJGu4oH",
    "outputId": "ea5791c7-39ae-4236-a1cc-689457e79112"
   },
   "outputs": [],
   "source": [
    "name_held = '20200922_1'\n",
    "edge_length = 0\n",
    "count = 1\n",
    "for index in range(df_hex_full.shape[0]):\n",
    "  # print(df_hex_full.iloc[index, 1].split(\"_\")[0]+\"_\"+df_hex_full.iloc[index, 1].split(\"_\")[1])\n",
    "  if df_hex_full.iloc[index, 1].split(\"_\")[0]+\"_\"+df_hex_full.iloc[index, 1].split(\"_\")[1] != name_held:\n",
    "    print('sample: ', name_held)\n",
    "    try:\n",
    "      print('mean domain size: ', edge_length/count)\n",
    "    except:\n",
    "      pass\n",
    "    \n",
    "    name_held = df_hex_full.iloc[index, 1].split(\"_\")[0]+\"_\"+df_hex_full.iloc[index, 1].split(\"_\")[1]\n",
    "    count = 0\n",
    "    edge_length = 0\n",
    "  if df_hex_full.iloc[index, 0]!='blobs':\n",
    "    if df_hex_full.iloc[index, 10] == 'good':\n",
    "      edge_length += df_hex_full.iloc[index, 9]*(1000/int(df_hex_full.iloc[index, 1].split(\"_\")[3]))\n",
    "      count += 1\n",
    "  elif df_hex_full.iloc[index, 0]=='blobs':\n",
    "    if df_hex_full.iloc[index, 10]=='good':\n",
    "      edge_length += df_hex_full.iloc[index, 9]*(1000/int(df_hex_full.iloc[index, 1].split(\"_\")[3]))\n",
    "      count += 1\n",
    "    elif df_hex_full.iloc[index, 10]=='yes':\n",
    "      edge_length += df_hex_full.iloc[index, 9]*(1000/int(df_hex_full.iloc[index, 1].split(\"_\")[3]))/2\n",
    "      count += 1"
   ]
  },
  {
   "cell_type": "code",
   "execution_count": null,
   "metadata": {
    "colab": {
     "base_uri": "https://localhost:8080/"
    },
    "id": "k9UV2hUDu4GG",
    "outputId": "eb5c36b9-60a2-4b0b-9090-e677936c6876"
   },
   "outputs": [],
   "source": [
    "print('sample: ', name_held)\n",
    "print('mean domain size: ', edge_length/count)"
   ]
  },
  {
   "cell_type": "markdown",
   "metadata": {
    "id": "FjgTFjbBpP_X"
   },
   "source": [
    "# Experimental section: Code blocks used to trace out code in case of problems\n",
    "\n",
    "*NOTE: @James, please remove any unnecessary cells and reorder the rest.*"
   ]
  },
  {
   "cell_type": "markdown",
   "metadata": {
    "id": "33BfryDfmuW5"
   },
   "source": [
    "## James"
   ]
  },
  {
   "cell_type": "code",
   "execution_count": null,
   "metadata": {
    "id": "6yFXJ67jc_lH"
   },
   "outputs": [],
   "source": [
    "#closed_image = np.uint8(img[canvas_stretch//2:-canvas_stretch//2, canvas_stretch//2:-canvas_stretch//2].copy())\n",
    "closed_image = filtered_image\n",
    "edges = cv2.Canny(closed_image, threshold1=.2, threshold2=.5, apertureSize = 3)\n",
    "\n",
    "lines = cv2.HoughLinesP(image=edges, rho=1, theta=1*np.pi/180, threshold=13, minLineLength=15, maxLineGap=20)\n",
    "\n",
    "smoothOutLines()\n",
    "newLines = deleteNullLines(lines)\n",
    "reOrientLines(newLines)\n",
    "connectVertices(newLines)\n",
    "\n",
    "segments = findSegments(newLines)\n",
    "      # connectSegments(segments)\n",
    "\n",
    "area = 0\n",
    "numHexagons = 0\n",
    "\n",
    "for segment in segments:\n",
    "  area, numHexagons = findOuterHexagonArea(segment, area, numHexagons)\n",
    "\n",
    "for segment in segments:\n",
    " segment.printToPicture(edges)\n",
    " print(\"break\")\n",
    " segment.listprint()\n",
    " #segment.printAng()\n",
    "\n",
    "# for line in newLines:\n",
    "#   x1, y1, x2, y2 = line[0]\n",
    "#   print(\"x1 {} y1 {} x2 {} y2 {}\".format(x1, y1, x2, y2))\n",
    "print(len(segments))\n",
    "if numHexagons > 0:\n",
    "  averageArea = area/numHexagons\n",
    "  estimation = np.sum(closed_image) / (averageArea)\n",
    "  print(\"Number of Hexagons is: {}\".format(estimation))\n",
    "\n",
    "\n",
    "plt.imshow(edges)"
   ]
  },
  {
   "cell_type": "code",
   "execution_count": null,
   "metadata": {
    "id": "U6-RF4KmQSCz"
   },
   "outputs": [],
   "source": [
    "frame_paths.index('combined_data/image_mask_1.png')"
   ]
  },
  {
   "cell_type": "code",
   "execution_count": null,
   "metadata": {
    "id": "j2gOflUTyMR9"
   },
   "outputs": [],
   "source": [
    "x = 4 #0 1 4 7 9 10\n",
    "img_raw = cv2.imread(frame_paths[x], 0)\n",
    "print(frame_paths[x])\n",
    "\n",
    "# img_rgray1\n",
    "\n",
    "plt.imshow(img_raw, cmap='gray')\n"
   ]
  },
  {
   "cell_type": "markdown",
   "metadata": {
    "id": "36HJaFV6m0IA"
   },
   "source": [
    "## Aagam"
   ]
  },
  {
   "cell_type": "code",
   "execution_count": null,
   "metadata": {
    "id": "r2hjt_kxm_-v"
   },
   "outputs": [],
   "source": [
    "import cv2\n",
    "import numpy as np\n",
    "import pandas as pd\n",
    "import matplotlib.pyplot as plt\n",
    "import os\n",
    "\n",
    "import copy\n",
    "import math\n",
    "import shapely\n",
    "import random\n",
    "from shapely.geometry import LineString, Point\n",
    "from sympy import Point, Line, pi, sin\n",
    "from skimage import util\n",
    "from scipy.ndimage.measurements import label\n",
    "from sklearn.cluster import KMeans, MiniBatchKMeans\n",
    "from PIL import Image, ImageDraw\n",
    "from matplotlib import cm"
   ]
  },
  {
   "cell_type": "code",
   "execution_count": null,
   "metadata": {
    "colab": {
     "base_uri": "https://localhost:8080/"
    },
    "id": "fFDdI4r-mzcS",
    "outputId": "2576d617-133f-4cf2-d6ca-e68b3a9fc0c3"
   },
   "outputs": [],
   "source": [
    "mask_paths_testing = ['20221122_2_F2_500_mask.png']\n",
    "# img_in = cv2.imread(img_path, 0)\n",
    "# plt.imshow(img_in, cmap='gray')\n",
    "\n",
    "kernel_size = 3\n",
    "kernel = np.ones((kernel_size, kernel_size), np.uint8)\n",
    "structure = np.ones((3, 3), dtype=int)\n",
    "results_list = []\n",
    "\n",
    "# filter_area = 5000 # change as per requirement\n",
    "\n",
    "for p in range(len(mask_paths_testing)):\n",
    "  path = mask_paths_testing[p]\n",
    "  print('index: ', p, '; path: ', path)\n",
    "  \n",
    "  image = cv2.imread(path, 0)\n",
    "\n",
    "  erosion = cv2.erode(image, kernel, iterations=2)\n",
    "  dilation = cv2.dilate(erosion, kernel, iterations=2)\n",
    "\n",
    "  labeled, ncomponents = label(dilation, structure)"
   ]
  },
  {
   "cell_type": "code",
   "execution_count": null,
   "metadata": {
    "colab": {
     "base_uri": "https://localhost:8080/",
     "height": 287
    },
    "id": "4_m9lzz9q4b8",
    "outputId": "d7aecbac-e27b-40ee-9e8a-19f87da0f582"
   },
   "outputs": [],
   "source": [
    "plt.imshow(labeled)"
   ]
  },
  {
   "cell_type": "code",
   "execution_count": null,
   "metadata": {
    "id": "3FVwPeGfts1x"
   },
   "outputs": [],
   "source": [
    "blob_areas = np.zeros((ncomponents, 2))\n",
    "for i in range(ncomponents):\n",
    "  blob_areas[i] = ([i, np.sum(np.where(labeled==i, 1, 0))])"
   ]
  },
  {
   "cell_type": "code",
   "execution_count": null,
   "metadata": {
    "id": "-otp_MUfxTuk"
   },
   "outputs": [],
   "source": [
    "y = blob_areas[1:, 1]\n",
    "y_sort = np.sort(y)\n",
    "\n",
    "x = range(1, y_sort.shape[0]+1)\n",
    "\n",
    "# plt.plot(y_sort)\n",
    "# n, bins, patches = plt.hist(blob_areas[1:,1], bins=[0,100,200,300,400,500,600,700,800,900,1000,2000,3000,4000,5000,6000,7000,8000,9000,10000])\n",
    "# n, bins, patches = plt.hist(y, bins=[0,1000,2000,3000,4000,5000,6000,7000,8000,9000,10000])\n",
    "# blob_areas[1:,1]"
   ]
  },
  {
   "cell_type": "code",
   "execution_count": null,
   "metadata": {
    "id": "D6TaZdsVwkGO"
   },
   "outputs": [],
   "source": [
    "from kneed import KneeLocator\n",
    "kn = KneeLocator(x, y_sort, curve='convex', direction='increasing')\n",
    "print(kn.knee)\n",
    "print('Area: ', y_sort[kn.knee-1])\n",
    "plt.figure(figsize=(8,6))\n",
    "plt.xlabel('blob number', size=16)\n",
    "plt.ylabel('Area of blob', size=16)\n",
    "plt.plot(x, y_sort, 'b-')\n",
    "plt.vlines(kn.knee, plt.ylim()[0], plt.ylim()[1], linestyles='dashed', label='Cutoff')\n",
    "plt.legend(fontsize=12)"
   ]
  },
  {
   "cell_type": "code",
   "execution_count": null,
   "metadata": {
    "colab": {
     "base_uri": "https://localhost:8080/"
    },
    "id": "zWH-6-0klUkf",
    "outputId": "eef07cf6-b1d5-40b4-de23-dfd242e39874"
   },
   "outputs": [],
   "source": [
    "y_filtered = y[(y<y_sort[kn.knee-1])]\n",
    "y_filtered"
   ]
  },
  {
   "cell_type": "code",
   "execution_count": null,
   "metadata": {
    "colab": {
     "base_uri": "https://localhost:8080/"
    },
    "id": "r2B-2X_gmD8q",
    "outputId": "fbf94193-2576-43a1-da76-629be8eaca12"
   },
   "outputs": [],
   "source": [
    "print(np.mean(y_filtered))\n",
    "# n, bins, patches = plt.hist(y_filtered, bins='auto')"
   ]
  },
  {
   "cell_type": "markdown",
   "metadata": {
    "id": "x8gazxdC5BGO"
   },
   "source": [
    "## Edge detection techniques \n",
    "*(I've stil kept this section header for your convenience. We do not need it)*"
   ]
  },
  {
   "cell_type": "code",
   "execution_count": null,
   "metadata": {
    "colab": {
     "base_uri": "https://localhost:8080/",
     "height": 247
    },
    "id": "n6rEigwX6IqD",
    "outputId": "a5c3a23d-1ba0-48c4-be42-3f74912d161b"
   },
   "outputs": [],
   "source": [
    "# image = img_raw\n",
    "\n",
    "# kernel_size = 3\n",
    "# kernel = np.ones((kernel_size, kernel_size), np.uint8)\n",
    "\n",
    "# structure = np.ones((3, 3), dtype=np.int)  # this defines the connection filter\n",
    "\n",
    "# labeled, ncomponents = label(image, structure)\n",
    "\n",
    "# blob_number = 1 # you can choose the blob label that you want to use\n",
    "# filtered_image = np.where(labeled==blob_number, 1, 0)\n",
    "# filtered_image = filtered_image.astype('uint8')\n",
    "\n",
    "# print(len(filtered_image[0]))\n",
    "# print(filtered_image)\n",
    "\n",
    "\n",
    "# plt.imshow(filtered_image, cmap='gray')\n",
    "########################################################\n",
    "image = img_raw\n",
    "\n",
    "kernel_size = 3\n",
    "kernel = np.ones((kernel_size, kernel_size), np.uint8)\n",
    "\n",
    "# dilation = cv2.dilate(image, kernel, iterations=5)\n",
    "# erosion = cv2.erode(dilation, kernel, iterations=5)\n",
    "\n",
    "erosion2 = cv2.erode(image, kernel, iterations=2)\n",
    "dilation2 = cv2.dilate(erosion2, kernel, iterations=2)\n",
    "\n",
    "structure = np.ones((3, 3), dtype=int)  # this defines the connection filter\n",
    "\n",
    "labeled, ncomponents = label(dilation2, structure)\n",
    "plt.imshow(labeled, cmap='gray')\n",
    "\n",
    "blob_number = 1 # you can choose the blob label that you want to use\n",
    "filtered_image = np.where(labeled==blob_number, 1, 0)\n",
    "filtered_image = filtered_image.astype('uint8')\n",
    "\n",
    "# print(len(filtered_image[0]))\n",
    "# print(filtered_image)\n",
    "\n",
    "plt.imshow(filtered_image, cmap='gray')"
   ]
  },
  {
   "cell_type": "code",
   "execution_count": null,
   "metadata": {
    "id": "1mS66RJVImIC"
   },
   "outputs": [],
   "source": [
    "\n",
    "\n",
    "# for blob_number in range(0, np.max(labeled) + 1):\n",
    "#   if np.sum(np.where(labeled==blob_number, 1, 0))>10000:\n",
    "#     filtered_image = np.where(labeled==blob_number, 1, 0)\n",
    "#     filtered_image = filtered_image.astype('uint8')\n",
    "#     plt.imshow(filtered_image, cmap='gray')\n",
    "#   else:\n",
    "#     print('Blob too small, pick another one. \\nCurrent blob number: {0} \\nTotal blobs: {1}'.format(blob_number, np.max(labeled)))"
   ]
  },
  {
   "cell_type": "code",
   "execution_count": null,
   "metadata": {
    "colab": {
     "base_uri": "https://localhost:8080/",
     "height": 286
    },
    "id": "yiy6RczJMnxB",
    "outputId": "e4fc33db-53cf-45cb-b306-3d41ce404fa8"
   },
   "outputs": [],
   "source": [
    "res = filtered_image.copy()\n",
    "contour,hier = cv2.findContours(res,cv2.RETR_CCOMP,cv2.CHAIN_APPROX_SIMPLE)\n",
    "\n",
    "for cnt in contour:\n",
    "    cv2.drawContours(res,[cnt],0,255,-1)\n",
    "\n",
    "closed_image = res.copy()\n",
    "\n",
    "plt.imshow(closed_image, cmap='gray')"
   ]
  },
  {
   "cell_type": "code",
   "execution_count": null,
   "metadata": {
    "colab": {
     "base_uri": "https://localhost:8080/",
     "height": 286
    },
    "id": "WDP3qwfFEOo1",
    "outputId": "a98f2069-db26-4081-c366-b910a3ea61cb"
   },
   "outputs": [],
   "source": [
    "dilation = cv2.dilate(closed_image, kernel, iterations=12)\n",
    "erosion = cv2.erode(dilation, kernel, iterations=12)\n",
    "\n",
    "plt.imshow(erosion, cmap='gray')"
   ]
  },
  {
   "cell_type": "code",
   "execution_count": null,
   "metadata": {
    "id": "W8l516PcBBIo"
   },
   "outputs": [],
   "source": [
    "edges = cv2.Canny(closed_image, threshold1=.2, threshold2=.5, apertureSize = 3)\n",
    "\n",
    "lines = cv2.HoughLinesP(edges, 1, 1*np.pi/180, threshold = 13, minLineLength = 15, maxLineGap = 20) # 25 20 ## 13 20"
   ]
  },
  {
   "cell_type": "code",
   "execution_count": null,
   "metadata": {
    "colab": {
     "base_uri": "https://localhost:8080/",
     "height": 269
    },
    "id": "L_yKTyxBIQpM",
    "outputId": "6c5702df-dab4-4c5a-e0ba-7dfe7febddfb"
   },
   "outputs": [],
   "source": [
    "blob_number = 1  # you can choose the blob label that you want to use\n",
    "if np.sum(np.where(labeled==blob_number, 1, 0))>5000:\n",
    "  filtered_image = np.where(labeled==blob_number, 1, 0)\n",
    "  filtered_image = filtered_image.astype('uint8')\n",
    "  plt.imshow(filtered_image, cmap='gray')\n",
    "else:\n",
    "  print('Blob too small, pick another one. \\nCurrent blob number: {0} \\nTotal blobs: {1}'.format(blob_number, np.max(labeled)))"
   ]
  },
  {
   "cell_type": "code",
   "execution_count": null,
   "metadata": {
    "colab": {
     "base_uri": "https://localhost:8080/"
    },
    "id": "igx_sXNPVg3n",
    "outputId": "477036a8-dae9-42b3-d76d-97c6022a89aa"
   },
   "outputs": [],
   "source": [
    " def tangleBetweenLines(lineA, lineB):\n",
    "  xStartA, yStartA, xEndA, yEndA = lineA[0]\n",
    "  xStartB, yStartB, xEndB, yEndB = lineB[0]\n",
    "  l1 = Line((xStartA, yStartA), (xEndA, yEndA))\n",
    "  l2 = Line((xStartB, yStartB), (xEndB, yEndB))\n",
    "  # xTest, yTest = findMidpoint(xStartA, yStartA, xEndB, yEndB)\n",
    "  # directionCoef = 1\n",
    "  # if closed_image[yTest][xTest] > 100:\n",
    "  #   directionCoef = -1\n",
    "  directionCoef = -1\n",
    "  #rad = pi + (directionCoef * l1.angle_between(l2))\n",
    "  rad = l1.angle_between(l2)\n",
    "  return rad\n",
    "\n",
    "A = [[0, 0, -10, 0]]\n",
    "B = [[-10, 0, -15, 9]]\n",
    "C = [[-15, 9, -10, 18]]\n",
    "D = [[-10, 18, 0, 18]]\n",
    "E = [[0, 18, 5, 9]]\n",
    "F = [[5, 9, 0, 0]]\n",
    "\n",
    "rad = tangleBetweenLines(B, C)\n",
    "print(rad)"
   ]
  },
  {
   "cell_type": "code",
   "execution_count": null,
   "metadata": {
    "colab": {
     "base_uri": "https://localhost:8080/",
     "height": 694
    },
    "id": "aCkTAx3VCTdO",
    "outputId": "8e511f93-6fb7-4ead-e036-170c0f7e796b"
   },
   "outputs": [],
   "source": [
    "np.unique(edges)\n",
    "plt.figure(figsize=(14,21))\n",
    "plt.imshow(edges)"
   ]
  },
  {
   "cell_type": "code",
   "execution_count": null,
   "metadata": {
    "id": "TX9CuNhn6U4n"
   },
   "outputs": [],
   "source": [
    "##fig, axes = plt.subplots(3, 1, figsize=(10, 15), sharex=True, sharey=True)\n",
    "#ax = axes.ravel()\n",
    "\n",
    "#ax[0].imshow(image, cmap=cm.gray)\n",
    "#ax[0].set_title('Input image')\n",
    "\n",
    "#ax[1].imshow(edges, cmap=cm.gray)\n",
    "#ax[1].set_title('Canny edges')\n",
    "\n",
    "#ax[2].imshow(erosion, cmap=cm.gray)\n",
    "#ax[2].set_title('Denoised edges')\n",
    "\n",
    "#plt.tight_layout()\n",
    "#plt.show()\n",
    "\n",
    "#find Countors Cv\n"
   ]
  },
  {
   "cell_type": "code",
   "execution_count": null,
   "metadata": {
    "colab": {
     "base_uri": "https://localhost:8080/",
     "height": 1000
    },
    "id": "WCnHFcYQ6f0e",
    "outputId": "e775c169-e052-4090-85e6-58b866fd0727"
   },
   "outputs": [],
   "source": [
    "def traceOutline(i, j):\n",
    "  outline, erosionCopy[i][j], counter = [[i, j]], 50, 0\n",
    "  while counter < len(outline):\n",
    "    [y, x] = outline[counter]\n",
    "    if x != 0 and y != 0 and erosionCopy[y-1][x-1] > 100:\n",
    "      outline.append([y-1, x-1])\n",
    "      erosionCopy[y-1][x-1] = 50\n",
    "    if y != 0 and erosionCopy[y-1][x] > 100:\n",
    "      outline.append([y-1, x])\n",
    "      erosionCopy[y-1][x] = 50\n",
    "    if x < len(erosion[0]) - 1 and y != 0 and erosionCopy[y-1][x+1] > 100:\n",
    "      outline.append([y-1, x+1])\n",
    "      erosionCopy[y-1][x+1] = 50\n",
    "    if x != 0 and erosionCopy[y][x-1] > 100:\n",
    "      outline.append([y, x-1])\n",
    "      erosionCopy[y][x-1] = 50\n",
    "    if x < len(erosion[0]) - 1 and erosionCopy[y][x+1] > 100:\n",
    "      outline.append([y, x+1])\n",
    "      erosionCopy[y][x+1] = 50\n",
    "    if x != 0 and y < len(erosion) - 1 and erosionCopy[y+1][x-1] > 100:\n",
    "      outline.append([y+1, x-1])\n",
    "      erosionCopy[y+1][x-1] = 50\n",
    "    if y < len(erosion) - 1 and erosionCopy[y+1][x] > 100:\n",
    "      outline.append([y+1, x])\n",
    "      erosionCopy[y+1][x] = 50\n",
    "    if x<len(erosion[0])-1 and y<len(erosion)-1 and erosionCopy[y+1][x+1]>100:\n",
    "      outline.append([y+1, x+1])\n",
    "      erosionCopy[y+1][x+1] = 50\n",
    "    counter += 1\n",
    "\n",
    "def traceOutlineDepth(i, j):\n",
    "  outline, stack, erosionCopy[i][j] = [[i,j]], [[i,j]], 50\n",
    "  while len(stack) > 0:\n",
    "    [y, x] = stack[len(stack)]\n",
    "    if x != 0 and y != 0 and erosionCopy[y-1][x-1] > 100:\n",
    "      outline.append([y-1, x-1])\n",
    "      erosionCopy[y-1][x-1] = 50\n",
    "      stack.append([y-1, x-1])\n",
    "      continue\n",
    "    if y != 0 and erosionCopy[y-1][x] > 100:\n",
    "      outline.append([y-1, x])\n",
    "      erosionCopy[y-1][x] = 50\n",
    "    if x < len(erosion[0]) - 1 and y != 0 and erosionCopy[y-1][x+1] > 100:\n",
    "      outline.append([y-1, x+1])\n",
    "      erosionCopy[y-1][x+1] = 50\n",
    "    if x != 0 and erosionCopy[y][x-1] > 100:\n",
    "      outline.append([y, x-1])\n",
    "      erosionCopy[y][x-1] = 50\n",
    "    if x < len(erosion[0]) - 1 and erosionCopy[y][x+1] > 100:\n",
    "      outline.append([y, x+1])\n",
    "      erosionCopy[y][x+1] = 50\n",
    "    if x != 0 and y < len(erosion) - 1 and erosionCopy[y+1][x-1] > 100:\n",
    "      outline.append([y+1, x-1])\n",
    "      erosionCopy[y+1][x-1] = 50\n",
    "    if y < len(erosion) - 1 and erosionCopy[y+1][x] > 100:\n",
    "      outline.append([y+1, x])\n",
    "      erosionCopy[y+1][x] = 50\n",
    "    if x<len(erosion[0])-1 and y<len(erosion)-1 and erosionCopy[y+1][x+1]>100:\n",
    "      outline.append([y+1, x+1])\n",
    "      erosionCopy[y+1][x+1] = 50\n",
    "\n",
    "counter = 0\n",
    "erosionCopy = copy.deepcopy(erosion)\n",
    "for i in range(0, len(erosion)):\n",
    "  for j in range(0, 500):\n",
    "      if erosionCopy[i][j] > 100:\n",
    "        counter += 1\n",
    "        traceOutline(i, j)\n",
    "\n",
    "fig, axes = plt.subplots(3, 1, figsize=(10, 15), sharex=True, sharey=True)\n",
    "ax = axes.ravel()\n",
    "\n",
    "ax[0].imshow(image, cmap=cm.gray)\n",
    "ax[0].set_title('Input image')\n",
    "\n",
    "ax[1].imshow(erosion, cmap=cm.gray)\n",
    "ax[1].set_title('Erosion edges')\n",
    "\n",
    "ax[2].imshow(erosionCopy, cmap=cm.gray)\n",
    "ax[2].set_title('Copy edges')\n",
    "\n",
    "plt.tight_layout()\n",
    "plt.show()\n",
    "\n",
    "\n"
   ]
  },
  {
   "cell_type": "code",
   "execution_count": null,
   "metadata": {
    "id": "VQasIEa8CUH0"
   },
   "outputs": [],
   "source": []
  }
 ],
 "metadata": {
  "colab": {
   "provenance": []
  },
  "kernelspec": {
   "display_name": "Python 3 (ipykernel)",
   "language": "python",
   "name": "python3"
  },
  "language_info": {
   "codemirror_mode": {
    "name": "ipython",
    "version": 3
   },
   "file_extension": ".py",
   "mimetype": "text/x-python",
   "name": "python",
   "nbconvert_exporter": "python",
   "pygments_lexer": "ipython3",
   "version": "3.11.2"
  }
 },
 "nbformat": 4,
 "nbformat_minor": 1
}
