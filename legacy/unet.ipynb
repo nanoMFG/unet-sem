{
 "cells": [
  {
   "cell_type": "markdown",
   "metadata": {},
   "source": [
    "# UNET Graphene Image Segmentation"
   ]
  },
  {
   "cell_type": "markdown",
   "metadata": {},
   "source": [
    "A tensorflow/keras machine learning model for image segmentation of graphene SEM images. Based heavily on [this repo](https://github.com/zhixuhao/unet)."
   ]
  },
  {
   "cell_type": "markdown",
   "metadata": {},
   "source": [
    "Imports:"
   ]
  },
  {
   "cell_type": "code",
   "execution_count": null,
   "metadata": {},
   "outputs": [],
   "source": [
    "from model import TrainUNET"
   ]
  },
  {
   "cell_type": "markdown",
   "metadata": {},
   "source": [
    "The next cell defines the model parameters, edit it before running if you would like to change anything."
   ]
  },
  {
   "cell_type": "code",
   "execution_count": null,
   "metadata": {},
   "outputs": [],
   "source": [
    "kwargs = {\n",
    "    'crop' : True, #If True, randomly crop batches before training\n",
    "    'augment' : True, #If True, randomly augment batches before training\n",
    "    'nepochs' : 5, #Number of epochs to run, each epoch takes 10-20 seconds\n",
    "    'batch_size' : 32, #Size of batches\n",
    "    'split' : 0.1, #What percentage of input data to use for testing\n",
    "    'max_crop' : False, #Crop images to their max size, specified below\n",
    "    'crop_size' : (256,256), #Size to crop images to\n",
    "    'input_size' : (256,256), #Size of images input to model, all inputs will\n",
    "                              #be rescaled to this size\n",
    "    'ngpu' : 1, #Number of GPUs to use (Deprecated)\n",
    "    'lr' : 1e-4, #The learning rate of the model, the smaller the value the \n",
    "                 #\"slower\" it will learn\n",
    "    'shuffle_data' : False, #Shuffle order of images before training\n",
    "    'augment_after' : 0, #Epoch to begin augmentation after (Deprecated)\n",
    "    'output_dir' : 'out/', #Directory to store model outputs\n",
    "    'input_dir' : 'data/', #Directory to scan for input images/masks\n",
    "}"
   ]
  },
  {
   "cell_type": "markdown",
   "metadata": {},
   "source": [
    "This next cell initializes the model, using the paramenters from before."
   ]
  },
  {
   "cell_type": "code",
   "execution_count": null,
   "metadata": {},
   "outputs": [],
   "source": [
    "model = TrainUNET(**kwargs)"
   ]
  },
  {
   "cell_type": "markdown",
   "metadata": {},
   "source": [
    "Finally, we can run the training, with optional testing."
   ]
  },
  {
   "cell_type": "code",
   "execution_count": null,
   "metadata": {},
   "outputs": [],
   "source": [
    "model.train(test=True, save_dir=kwargs['output_dir'])"
   ]
  }
 ],
 "metadata": {
  "kernelspec": {
   "display_name": "Python 3",
   "language": "python",
   "name": "python3"
  },
  "language_info": {
   "codemirror_mode": {
    "name": "ipython",
    "version": 3
   },
   "file_extension": ".py",
   "mimetype": "text/x-python",
   "name": "python",
   "nbconvert_exporter": "python",
   "pygments_lexer": "ipython3",
   "version": "3.8.5"
  }
 },
 "nbformat": 4,
 "nbformat_minor": 4
}
